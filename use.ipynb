{
  "nbformat": 4,
  "nbformat_minor": 0,
  "metadata": {
    "colab": {
      "provenance": [],
      "machine_shape": "hm"
    },
    "kernelspec": {
      "name": "python3",
      "display_name": "Python 3"
    },
    "language_info": {
      "name": "python"
    }
  },
  "cells": [
    {
      "cell_type": "markdown",
      "source": [
        "# Amazon Reviews Dataset"
      ],
      "metadata": {
        "id": "NNRk0G204orS"
      }
    },
    {
      "cell_type": "code",
      "source": [
        "import numpy as np\n",
        "import pandas as pd\n",
        "import os\n",
        "import tensorflow as tf\n",
        "import tensorflow_hub as hub\n",
        "from tensorflow.keras.callbacks import ModelCheckpoint\n",
        "from tensorflow.keras.utils import to_categorical"
      ],
      "metadata": {
        "id": "8yNcoxPDSlAJ"
      },
      "execution_count": 2,
      "outputs": []
    },
    {
      "cell_type": "code",
      "source": [
        "train = pd.read_csv(\"./train_sampled_reviews.csv\")\n",
        "val = pd.read_csv(\"./val_sampled_reviews.csv\")\n",
        "test = pd.read_csv(\"./test_sampled_reviews.csv\")"
      ],
      "metadata": {
        "id": "NQ2H-24oSpBT"
      },
      "execution_count": 3,
      "outputs": []
    },
    {
      "cell_type": "code",
      "source": [
        "train_texts = train['Review'].to_numpy()\n",
        "train_labels = train['Label'].to_numpy()\n",
        "val_texts = val['Review'].to_numpy()\n",
        "val_labels = val['Label'].to_numpy()\n",
        "test_texts = test['Review'].to_numpy()\n",
        "test_labels = test['Label'].to_numpy()\n",
        "\n",
        "y_train = to_categorical(train_labels, 2)\n",
        "y_val = to_categorical(val_labels, 2)\n",
        "y_test = to_categorical(test_labels, 2)"
      ],
      "metadata": {
        "id": "YjiE8jk4SrJy"
      },
      "execution_count": 4,
      "outputs": []
    },
    {
      "cell_type": "markdown",
      "source": [
        "# Universal Sentence Encoder"
      ],
      "metadata": {
        "id": "NkJrRDoE45Ar"
      }
    },
    {
      "cell_type": "code",
      "source": [
        "sentence_encoder_layer = hub.KerasLayer(\"https://tfhub.dev/google/universal-sentence-encoder/4\",\n",
        "                                        input_shape=[],\n",
        "                                        dtype=tf.string,\n",
        "                                        trainable=False,\n",
        "                                        name=\"USE\")\n",
        "\n",
        "tf.random.set_seed(42)\n",
        "model_USE = tf.keras.Sequential([\n",
        "    sentence_encoder_layer,\n",
        "    tf.keras.layers.Dense(64, activation=\"relu\"),\n",
        "    tf.keras.layers.Dense(2, activation=\"softmax\")\n",
        "], name=\"model_USE\")\n",
        "\n",
        "model_USE.compile(loss=\"categorical_crossentropy\",\n",
        "                  optimizer=tf.keras.optimizers.Adam(),\n",
        "                  metrics=[\"accuracy\"])\n",
        "\n",
        "model_USE.summary()"
      ],
      "metadata": {
        "colab": {
          "base_uri": "https://localhost:8080/"
        },
        "id": "e3SFRUseStHj",
        "outputId": "2614ae7d-54d8-4ec6-8616-d4974d0dac6b"
      },
      "execution_count": 5,
      "outputs": [
        {
          "output_type": "stream",
          "name": "stdout",
          "text": [
            "Model: \"model_USE\"\n",
            "_________________________________________________________________\n",
            " Layer (type)                Output Shape              Param #   \n",
            "=================================================================\n",
            " USE (KerasLayer)            (None, 512)               256797824 \n",
            "                                                                 \n",
            " dense (Dense)               (None, 64)                32832     \n",
            "                                                                 \n",
            " dense_1 (Dense)             (None, 2)                 130       \n",
            "                                                                 \n",
            "=================================================================\n",
            "Total params: 256830786 (979.73 MB)\n",
            "Trainable params: 32962 (128.76 KB)\n",
            "Non-trainable params: 256797824 (979.61 MB)\n",
            "_________________________________________________________________\n"
          ]
        }
      ]
    },
    {
      "cell_type": "code",
      "source": [
        "checkpoint_path = \"/content/drive/MyDrive/advanced_project/models/use_best_model\"\n",
        "cc = ModelCheckpoint(filepath=checkpoint_path,\n",
        "                     monitor='val_accuracy',\n",
        "                     mode='max',\n",
        "                     save_best_only=True,\n",
        "                     verbose=1)"
      ],
      "metadata": {
        "id": "27dVc7LeSusK"
      },
      "execution_count": 6,
      "outputs": []
    },
    {
      "cell_type": "code",
      "source": [
        "model_USE_history = model_USE.fit(train_texts, y_train,\n",
        "                                  epochs=10,\n",
        "                                  validation_data=(val_texts, y_val),\n",
        "                                  callbacks=[cc])"
      ],
      "metadata": {
        "colab": {
          "base_uri": "https://localhost:8080/"
        },
        "id": "_s4fPJe-Sv5C",
        "outputId": "43b75254-a793-4625-a718-79484082ce35"
      },
      "execution_count": 7,
      "outputs": [
        {
          "output_type": "stream",
          "name": "stdout",
          "text": [
            "Epoch 1/10\n",
            "748/750 [============================>.] - ETA: 0s - loss: 0.3354 - accuracy: 0.8604\n",
            "Epoch 1: val_accuracy improved from -inf to 0.87306, saving model to /content/drive/MyDrive/advanced_project/models/use_best_model\n",
            "750/750 [==============================] - 26s 31ms/step - loss: 0.3358 - accuracy: 0.8602 - val_loss: 0.2933 - val_accuracy: 0.8731\n",
            "Epoch 2/10\n",
            "748/750 [============================>.] - ETA: 0s - loss: 0.2903 - accuracy: 0.8781\n",
            "Epoch 2: val_accuracy improved from 0.87306 to 0.88861, saving model to /content/drive/MyDrive/advanced_project/models/use_best_model\n",
            "750/750 [==============================] - 21s 28ms/step - loss: 0.2903 - accuracy: 0.8781 - val_loss: 0.2744 - val_accuracy: 0.8886\n",
            "Epoch 3/10\n",
            "749/750 [============================>.] - ETA: 0s - loss: 0.2829 - accuracy: 0.8801\n",
            "Epoch 3: val_accuracy did not improve from 0.88861\n",
            "750/750 [==============================] - 14s 19ms/step - loss: 0.2828 - accuracy: 0.8802 - val_loss: 0.2697 - val_accuracy: 0.8883\n",
            "Epoch 4/10\n",
            "748/750 [============================>.] - ETA: 0s - loss: 0.2741 - accuracy: 0.8833\n",
            "Epoch 4: val_accuracy improved from 0.88861 to 0.89056, saving model to /content/drive/MyDrive/advanced_project/models/use_best_model\n",
            "750/750 [==============================] - 23s 30ms/step - loss: 0.2740 - accuracy: 0.8834 - val_loss: 0.2610 - val_accuracy: 0.8906\n",
            "Epoch 5/10\n",
            "750/750 [==============================] - ETA: 0s - loss: 0.2664 - accuracy: 0.8875\n",
            "Epoch 5: val_accuracy did not improve from 0.89056\n",
            "750/750 [==============================] - 14s 18ms/step - loss: 0.2664 - accuracy: 0.8875 - val_loss: 0.2571 - val_accuracy: 0.8900\n",
            "Epoch 6/10\n",
            "749/750 [============================>.] - ETA: 0s - loss: 0.2583 - accuracy: 0.8922\n",
            "Epoch 6: val_accuracy improved from 0.89056 to 0.89972, saving model to /content/drive/MyDrive/advanced_project/models/use_best_model\n",
            "750/750 [==============================] - 22s 29ms/step - loss: 0.2581 - accuracy: 0.8923 - val_loss: 0.2439 - val_accuracy: 0.8997\n",
            "Epoch 7/10\n",
            "747/750 [============================>.] - ETA: 0s - loss: 0.2494 - accuracy: 0.8969\n",
            "Epoch 7: val_accuracy did not improve from 0.89972\n",
            "750/750 [==============================] - 14s 18ms/step - loss: 0.2496 - accuracy: 0.8967 - val_loss: 0.2388 - val_accuracy: 0.8986\n",
            "Epoch 8/10\n",
            "750/750 [==============================] - ETA: 0s - loss: 0.2414 - accuracy: 0.9009\n",
            "Epoch 8: val_accuracy improved from 0.89972 to 0.90611, saving model to /content/drive/MyDrive/advanced_project/models/use_best_model\n",
            "750/750 [==============================] - 21s 28ms/step - loss: 0.2414 - accuracy: 0.9009 - val_loss: 0.2242 - val_accuracy: 0.9061\n",
            "Epoch 9/10\n",
            "750/750 [==============================] - ETA: 0s - loss: 0.2322 - accuracy: 0.9053\n",
            "Epoch 9: val_accuracy did not improve from 0.90611\n",
            "750/750 [==============================] - 13s 17ms/step - loss: 0.2322 - accuracy: 0.9053 - val_loss: 0.2217 - val_accuracy: 0.9061\n",
            "Epoch 10/10\n",
            "747/750 [============================>.] - ETA: 0s - loss: 0.2242 - accuracy: 0.9091\n",
            "Epoch 10: val_accuracy improved from 0.90611 to 0.91500, saving model to /content/drive/MyDrive/advanced_project/models/use_best_model\n",
            "750/750 [==============================] - 22s 29ms/step - loss: 0.2242 - accuracy: 0.9091 - val_loss: 0.2082 - val_accuracy: 0.9150\n"
          ]
        }
      ]
    },
    {
      "cell_type": "code",
      "source": [
        "from sklearn.metrics import accuracy_score, precision_recall_fscore_support\n",
        "\n",
        "def calculate_results(y_true, y_pred):\n",
        "  model_accuracy = accuracy_score(y_true, y_pred) * 100\n",
        "  model_precision, model_recall, model_f1, _ = precision_recall_fscore_support(y_true, y_pred, average=\"weighted\")\n",
        "  model_results = {\"accuracy\": model_accuracy,\n",
        "                  \"precision\": model_precision,\n",
        "                  \"recall\": model_recall,\n",
        "                  \"f1\": model_f1}\n",
        "  return model_results"
      ],
      "metadata": {
        "id": "2o9i53bqT7n8"
      },
      "execution_count": 8,
      "outputs": []
    },
    {
      "cell_type": "code",
      "source": [
        "from tensorflow.keras.models import load_model\n",
        "import matplotlib.pyplot as plt\n",
        "\n",
        "model_USE = load_model(checkpoint_path)\n",
        "model_USE.evaluate(val_texts, y_val)\n",
        "\n",
        "def plot_graphs(history, string):\n",
        "    plt.plot(history.history[string])\n",
        "    plt.plot(history.history['val_' + string])\n",
        "    plt.xlabel(\"Epochs\")\n",
        "    plt.ylabel(string)\n",
        "    plt.legend([string, 'val_' + string])\n",
        "    plt.show()\n",
        "\n",
        "plot_graphs(model_USE_history, 'accuracy')\n",
        "plot_graphs(model_USE_history, 'loss')\n",
        "\n",
        "model_USE_pred_probs = model_USE.predict(val_texts)\n",
        "\n",
        "model_USE_preds = tf.argmax(model_USE_pred_probs, axis=1)\n",
        "model_USE_results = calculate_results(val_labels, model_USE_preds)\n"
      ],
      "metadata": {
        "colab": {
          "base_uri": "https://localhost:8080/",
          "height": 917
        },
        "id": "H6nSfD1JS-mT",
        "outputId": "94dcc020-2fd3-41a7-912a-9d71d1a854af"
      },
      "execution_count": 9,
      "outputs": [
        {
          "output_type": "stream",
          "name": "stdout",
          "text": [
            "113/113 [==============================] - 2s 15ms/step - loss: 0.2082 - accuracy: 0.9150\n"
          ]
        },
        {
          "output_type": "display_data",
          "data": {
            "text/plain": [
              "<Figure size 640x480 with 1 Axes>"
            ],
            "image/png": "[encoded data removed]"
          },
          "metadata": {}
        },
        {
          "output_type": "display_data",
          "data": {
            "text/plain": [
              "<Figure size 640x480 with 1 Axes>"
            ],
            "image/png": "[encoded data removed]"
          },
          "metadata": {}
        },
        {
          "output_type": "stream",
          "name": "stdout",
          "text": [
            "113/113 [==============================] - 2s 16ms/step\n"
          ]
        }
      ]
    },
    {
      "cell_type": "code",
      "source": [
        "best_use = load_model(checkpoint_path)\n",
        "score_use, acc_use = best_use.evaluate(val_texts, y_val, verbose=0)\n",
        "print(\"Baseline USE Model on Amazon Reviews Dataset\")\n",
        "print(f'Test loss for USE model: {score_use:.3f}')\n",
        "print(f'Test accuracy for USE model: {acc_use:.3f}')\n",
        "print()"
      ],
      "metadata": {
        "colab": {
          "base_uri": "https://localhost:8080/"
        },
        "id": "Qzi0hkObU-Tv",
        "outputId": "7990374c-3f43-47e0-8b6e-948952414745"
      },
      "execution_count": 10,
      "outputs": [
        {
          "output_type": "stream",
          "name": "stdout",
          "text": [
            "Baseline USE Model on Amazon Reviews Dataset\n",
            "Test loss for USE model: 0.208\n",
            "Test accuracy for USE model: 0.915\n",
            "\n"
          ]
        }
      ]
    },
    {
      "cell_type": "markdown",
      "source": [
        "# Testing on Yelp"
      ],
      "metadata": {
        "id": "xrfPEgZhV4FH"
      }
    },
    {
      "cell_type": "code",
      "source": [
        "train = pd.read_csv(\"./yelp_train.csv\")\n",
        "val = pd.read_csv(\"./yelp_val.csv\")\n",
        "test = pd.read_csv(\"./yelp_test.csv\")\n",
        "\n",
        "train_texts = train['Review'].to_numpy()\n",
        "train_labels = train['Label'].to_numpy()\n",
        "val_texts = val['Review'].to_numpy()\n",
        "val_labels = val['Label'].to_numpy()\n",
        "test_texts = test['Review'].to_numpy()\n",
        "test_labels = test['Label'].to_numpy()\n",
        "\n",
        "y_train = to_categorical(train_labels, 2)\n",
        "y_val = to_categorical(val_labels, 2)\n",
        "y_test = to_categorical(test_labels, 2)"
      ],
      "metadata": {
        "id": "_iqnAkI7ZLpT"
      },
      "execution_count": 18,
      "outputs": []
    },
    {
      "cell_type": "code",
      "source": [
        "best_use_yelp_model = load_model(checkpoint_path)\n",
        "score_use, acc_use = best_use_yelp_model.evaluate(val_texts, y_val, verbose=0)\n",
        "print(\"Baseline USE Model on Yelp Dataset\")\n",
        "print(f'Test loss for USE model: {score_use:.3f}')\n",
        "print(f'Test accuracy for USE model: {acc_use:.3f}')\n",
        "print()"
      ],
      "metadata": {
        "colab": {
          "base_uri": "https://localhost:8080/"
        },
        "id": "pPA_widGDR7I",
        "outputId": "8b60d409-8640-4c42-b480-d58671eef836"
      },
      "execution_count": 19,
      "outputs": [
        {
          "output_type": "stream",
          "name": "stdout",
          "text": [
            "Baseline USE Model on Yelp Dataset\n",
            "Test loss for USE model: 0.278\n",
            "Test accuracy for USE model: 0.885\n",
            "\n"
          ]
        }
      ]
    },
    {
      "cell_type": "markdown",
      "source": [
        "# Finetuning the Model on Yelp"
      ],
      "metadata": {
        "id": "O5wEdVbSaBvT"
      }
    },
    {
      "cell_type": "code",
      "source": [
        "from tensorflow.keras.models import load_model\n",
        "from tensorflow.keras.optimizers import Adam\n",
        "from tensorflow.keras.callbacks import ModelCheckpoint\n",
        "import numpy as np\n",
        "\n",
        "model_use_finetuned = load_model(checkpoint_path)\n",
        "\n",
        "optimizer = Adam(learning_rate=0.001)\n",
        "\n",
        "model_use_finetuned.compile(loss='categorical_crossentropy', optimizer=optimizer, metrics=['accuracy'])\n",
        "\n",
        "use_finetune_checkpoint_path = '/content/drive/MyDrive/advanced_project/models/use_finetuned_best_model'\n",
        "use_finetune_checkpoint = ModelCheckpoint(\n",
        "    filepath=use_finetune_checkpoint_path,\n",
        "    save_best_only=True,\n",
        "    monitor='val_accuracy',\n",
        "    mode='max',\n",
        "    verbose=1\n",
        ")\n",
        "\n",
        "y_train_y = to_categorical(np.array(train_labels).astype('int'), 2)\n",
        "y_val_y = to_categorical(np.array(val_labels).astype('int'), 2)\n",
        "\n",
        "history_use_ft = model_use_finetuned.fit(\n",
        "    train_texts, y_train_y,\n",
        "    batch_size=256,\n",
        "    validation_data=(val_texts, y_val_y),\n",
        "    epochs=10,\n",
        "    callbacks=[use_finetune_checkpoint]\n",
        ")\n"
      ],
      "metadata": {
        "colab": {
          "base_uri": "https://localhost:8080/"
        },
        "id": "Mw8BsbMwaDrp",
        "outputId": "4521414b-b09f-4713-889a-5474f13138ad"
      },
      "execution_count": 20,
      "outputs": [
        {
          "output_type": "stream",
          "name": "stdout",
          "text": [
            "Epoch 1/10\n",
            "104/104 [==============================] - ETA: 0s - loss: 0.2388 - accuracy: 0.9003\n",
            "Epoch 1: val_accuracy improved from -inf to 0.90770, saving model to /content/drive/MyDrive/advanced_project/models/use_finetuned_best_model\n",
            "104/104 [==============================] - 43s 379ms/step - loss: 0.2388 - accuracy: 0.9003 - val_loss: 0.2285 - val_accuracy: 0.9077\n",
            "Epoch 2/10\n",
            "104/104 [==============================] - ETA: 0s - loss: 0.2193 - accuracy: 0.9096\n",
            "Epoch 2: val_accuracy improved from 0.90770 to 0.90928, saving model to /content/drive/MyDrive/advanced_project/models/use_finetuned_best_model\n",
            "104/104 [==============================] - 38s 366ms/step - loss: 0.2193 - accuracy: 0.9096 - val_loss: 0.2218 - val_accuracy: 0.9093\n",
            "Epoch 3/10\n",
            "104/104 [==============================] - ETA: 0s - loss: 0.2122 - accuracy: 0.9132\n",
            "Epoch 3: val_accuracy improved from 0.90928 to 0.91121, saving model to /content/drive/MyDrive/advanced_project/models/use_finetuned_best_model\n",
            "104/104 [==============================] - 36s 343ms/step - loss: 0.2122 - accuracy: 0.9132 - val_loss: 0.2186 - val_accuracy: 0.9112\n",
            "Epoch 4/10\n",
            "104/104 [==============================] - ETA: 0s - loss: 0.2064 - accuracy: 0.9155\n",
            "Epoch 4: val_accuracy improved from 0.91121 to 0.91209, saving model to /content/drive/MyDrive/advanced_project/models/use_finetuned_best_model\n",
            "104/104 [==============================] - 35s 333ms/step - loss: 0.2064 - accuracy: 0.9155 - val_loss: 0.2172 - val_accuracy: 0.9121\n",
            "Epoch 5/10\n",
            "104/104 [==============================] - ETA: 0s - loss: 0.2014 - accuracy: 0.9184\n",
            "Epoch 5: val_accuracy improved from 0.91209 to 0.91262, saving model to /content/drive/MyDrive/advanced_project/models/use_finetuned_best_model\n",
            "104/104 [==============================] - 36s 351ms/step - loss: 0.2014 - accuracy: 0.9184 - val_loss: 0.2160 - val_accuracy: 0.9126\n",
            "Epoch 6/10\n",
            "104/104 [==============================] - ETA: 0s - loss: 0.1970 - accuracy: 0.9200\n",
            "Epoch 6: val_accuracy improved from 0.91262 to 0.91384, saving model to /content/drive/MyDrive/advanced_project/models/use_finetuned_best_model\n",
            "104/104 [==============================] - 36s 343ms/step - loss: 0.1970 - accuracy: 0.9200 - val_loss: 0.2140 - val_accuracy: 0.9138\n",
            "Epoch 7/10\n",
            "104/104 [==============================] - ETA: 0s - loss: 0.1923 - accuracy: 0.9223\n",
            "Epoch 7: val_accuracy did not improve from 0.91384\n",
            "104/104 [==============================] - 28s 265ms/step - loss: 0.1923 - accuracy: 0.9223 - val_loss: 0.2167 - val_accuracy: 0.9117\n",
            "Epoch 8/10\n",
            "104/104 [==============================] - ETA: 0s - loss: 0.1888 - accuracy: 0.9232\n",
            "Epoch 8: val_accuracy improved from 0.91384 to 0.91525, saving model to /content/drive/MyDrive/advanced_project/models/use_finetuned_best_model\n",
            "104/104 [==============================] - 34s 332ms/step - loss: 0.1888 - accuracy: 0.9232 - val_loss: 0.2128 - val_accuracy: 0.9152\n",
            "Epoch 9/10\n",
            "104/104 [==============================] - ETA: 0s - loss: 0.1849 - accuracy: 0.9257\n",
            "Epoch 9: val_accuracy improved from 0.91525 to 0.91560, saving model to /content/drive/MyDrive/advanced_project/models/use_finetuned_best_model\n",
            "104/104 [==============================] - 37s 361ms/step - loss: 0.1849 - accuracy: 0.9257 - val_loss: 0.2121 - val_accuracy: 0.9156\n",
            "Epoch 10/10\n",
            "104/104 [==============================] - ETA: 0s - loss: 0.1814 - accuracy: 0.9271\n",
            "Epoch 10: val_accuracy did not improve from 0.91560\n",
            "104/104 [==============================] - 28s 270ms/step - loss: 0.1814 - accuracy: 0.9271 - val_loss: 0.2128 - val_accuracy: 0.9154\n"
          ]
        }
      ]
    },
    {
      "cell_type": "code",
      "source": [
        "finetune_use_best = load_model(use_finetune_checkpoint_path)\n",
        "\n",
        "y_test_y = np.array(test_labels)\n",
        "y_test_y = y_test_y.astype('int')\n",
        "y_test_y = to_categorical(y_test_y, 2)\n",
        "score_use, acc_use = best_use.evaluate(test_texts, y_test_y, verbose=0)\n",
        "\n",
        "print(\"Finetuned USE Model on Yelp Dataset\")\n",
        "print(f'Test loss for Fine-Tuned USE model: {score_use:.3f}')\n",
        "print(f'Test accuracy for Fine-Tuned USE model: {acc_use:.3f}')\n",
        "print()"
      ],
      "metadata": {
        "colab": {
          "base_uri": "https://localhost:8080/"
        },
        "id": "XqIHdXJefwsN",
        "outputId": "26a8903c-bf0a-43ce-dd65-8e1adbc1658f"
      },
      "execution_count": 21,
      "outputs": [
        {
          "output_type": "stream",
          "name": "stdout",
          "text": [
            "Finetuned USE Model on Yelp Dataset\n",
            "Test loss for Fine-Tuned USE model: 0.272\n",
            "Test accuracy for Fine-Tuned USE model: 0.887\n",
            "\n"
          ]
        }
      ]
    },
    {
      "cell_type": "markdown",
      "source": [
        "# Feature Extraction on the Model"
      ],
      "metadata": {
        "id": "s9ALpywYbrPU"
      }
    },
    {
      "cell_type": "code",
      "source": [
        "from tensorflow.keras.models import Model\n",
        "from tensorflow.keras.layers import Dropout, Dense\n",
        "from tensorflow.keras.optimizers import Adam\n",
        "from tensorflow.keras.callbacks import ModelCheckpoint, ReduceLROnPlateau\n",
        "\n",
        "pretrained_model = load_model(use_finetune_checkpoint_path)\n",
        "\n",
        "dropout_rate = 0.5\n",
        "x = Dropout(dropout_rate)(pretrained_model.layers[-2].output)\n",
        "output = Dense(units=pretrained_model.layers[-1].units, activation=pretrained_model.layers[-1].activation)(x)\n",
        "model = Model(inputs=pretrained_model.input, outputs=output)\n",
        "\n",
        "for layer in model.layers[:-2]:\n",
        "    layer.trainable = False\n",
        "\n",
        "optimizer = Adam(learning_rate=0.001)\n",
        "model.compile(loss='categorical_crossentropy', optimizer=optimizer, metrics=['accuracy'])\n",
        "\n",
        "use_feature_extraction_checkpoint_path = '/content/drive/MyDrive/advanced_project/models/use_fe_best_model'\n",
        "checkpoint = ModelCheckpoint(filepath=use_feature_extraction_checkpoint_path, save_best_only=True, monitor='val_accuracy', mode='max')\n",
        "lr_scheduler = ReduceLROnPlateau(monitor='val_loss', factor=0.1, patience=5)\n",
        "\n",
        "batch_size = 128\n",
        "\n",
        "history = model.fit(\n",
        "    train_texts, y_train_y,\n",
        "    batch_size=batch_size,\n",
        "    validation_data=(val_texts, y_val_y),\n",
        "    epochs=10,\n",
        "    callbacks=[checkpoint, lr_scheduler]\n",
        ")\n"
      ],
      "metadata": {
        "colab": {
          "base_uri": "https://localhost:8080/"
        },
        "id": "Qd_DEzjcdJYC",
        "outputId": "d8f8386c-4b95-4428-c652-743f2f792cda"
      },
      "execution_count": 22,
      "outputs": [
        {
          "output_type": "stream",
          "name": "stdout",
          "text": [
            "Epoch 1/10\n",
            "208/208 [==============================] - 46s 194ms/step - loss: 0.4392 - accuracy: 0.8467 - val_loss: 0.3111 - val_accuracy: 0.9035 - lr: 0.0010\n",
            "Epoch 2/10\n",
            "208/208 [==============================] - 38s 183ms/step - loss: 0.2809 - accuracy: 0.9077 - val_loss: 0.2518 - val_accuracy: 0.9061 - lr: 0.0010\n",
            "Epoch 3/10\n",
            "208/208 [==============================] - 36s 174ms/step - loss: 0.2461 - accuracy: 0.9085 - val_loss: 0.2325 - val_accuracy: 0.9075 - lr: 0.0010\n",
            "Epoch 4/10\n",
            "208/208 [==============================] - 34s 166ms/step - loss: 0.2292 - accuracy: 0.9105 - val_loss: 0.2242 - val_accuracy: 0.9100 - lr: 0.0010\n",
            "Epoch 5/10\n",
            "208/208 [==============================] - 35s 169ms/step - loss: 0.2203 - accuracy: 0.9118 - val_loss: 0.2202 - val_accuracy: 0.9112 - lr: 0.0010\n",
            "Epoch 6/10\n",
            "208/208 [==============================] - 34s 164ms/step - loss: 0.2166 - accuracy: 0.9145 - val_loss: 0.2180 - val_accuracy: 0.9128 - lr: 0.0010\n",
            "Epoch 7/10\n",
            "208/208 [==============================] - 35s 170ms/step - loss: 0.2144 - accuracy: 0.9133 - val_loss: 0.2168 - val_accuracy: 0.9138 - lr: 0.0010\n",
            "Epoch 8/10\n",
            "208/208 [==============================] - 27s 128ms/step - loss: 0.2122 - accuracy: 0.9142 - val_loss: 0.2162 - val_accuracy: 0.9137 - lr: 0.0010\n",
            "Epoch 9/10\n",
            "208/208 [==============================] - 33s 159ms/step - loss: 0.2138 - accuracy: 0.9127 - val_loss: 0.2156 - val_accuracy: 0.9142 - lr: 0.0010\n",
            "Epoch 10/10\n",
            "208/208 [==============================] - 27s 128ms/step - loss: 0.2107 - accuracy: 0.9145 - val_loss: 0.2152 - val_accuracy: 0.9137 - lr: 0.0010\n"
          ]
        }
      ]
    },
    {
      "cell_type": "code",
      "source": [
        "use_feature_extraction_best_two = load_model(use_feature_extraction_checkpoint_path)\n",
        "\n",
        "y_test_y = np.array(test_labels)\n",
        "y_test_y = y_test_y.astype('int')\n",
        "y_test_y = to_categorical(y_test_y, 2)\n",
        "score_use, acc_use = best_use.evaluate(test_texts, y_test_y, verbose=0)\n",
        "\n",
        "print(\"Feature Extraction USE Model on Yelp Dataset\")\n",
        "print(f'Test loss for Fine-Tuned USE model: {score_use:.3f}')\n",
        "print(f'Test accuracy for Fine-Tuned USE model: {acc_use:.3f}')\n",
        "print()"
      ],
      "metadata": {
        "colab": {
          "base_uri": "https://localhost:8080/"
        },
        "id": "snYlIPG1D4PF",
        "outputId": "63bd7281-6e6f-4b82-a252-6138651c5e0f"
      },
      "execution_count": 23,
      "outputs": [
        {
          "output_type": "stream",
          "name": "stdout",
          "text": [
            "Feature Extraction USE Model on Yelp Dataset\n",
            "Test loss for Fine-Tuned USE model: 0.272\n",
            "Test accuracy for Fine-Tuned USE model: 0.887\n",
            "\n"
          ]
        }
      ]
    }
  ]
}