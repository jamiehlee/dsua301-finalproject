{
  "nbformat": 4,
  "nbformat_minor": 0,
  "metadata": {
    "colab": {
      "provenance": [],
      "machine_shape": "hm",
      "gpuType": "V100"
    },
    "kernelspec": {
      "name": "python3",
      "display_name": "Python 3"
    },
    "language_info": {
      "name": "python"
    },
    "accelerator": "GPU"
  },
  "cells": [
    {
      "cell_type": "markdown",
      "source": [
        "# Amazon Reviews Dataset"
      ],
      "metadata": {
        "id": "NNRk0G204orS"
      }
    },
    {
      "cell_type": "code",
      "source": [
        "import numpy as np\n",
        "import pandas as pd\n",
        "import os\n",
        "import tensorflow as tf\n",
        "import tensorflow_hub as hub\n",
        "from tensorflow.keras.callbacks import ModelCheckpoint\n",
        "from tensorflow.keras.utils import to_categorical"
      ],
      "metadata": {
        "id": "8yNcoxPDSlAJ"
      },
      "execution_count": null,
      "outputs": []
    },
    {
      "cell_type": "code",
      "source": [
        "train = pd.read_csv(\"./train_sampled_reviews.csv\")\n",
        "val = pd.read_csv(\"./val_sampled_reviews.csv\")\n",
        "test = pd.read_csv(\"./test_sampled_reviews.csv\")"
      ],
      "metadata": {
        "id": "NQ2H-24oSpBT"
      },
      "execution_count": null,
      "outputs": []
    },
    {
      "cell_type": "code",
      "source": [
        "train_texts = train['Review'].to_numpy()\n",
        "train_labels = train['Label'].to_numpy()\n",
        "val_texts = val['Review'].to_numpy()\n",
        "val_labels = val['Label'].to_numpy()\n",
        "test_texts = test['Review'].to_numpy()\n",
        "test_labels = test['Label'].to_numpy()\n",
        "\n",
        "y_train = to_categorical(train_labels, 2)\n",
        "y_val = to_categorical(val_labels, 2)\n",
        "y_test = to_categorical(test_labels, 2)"
      ],
      "metadata": {
        "id": "YjiE8jk4SrJy"
      },
      "execution_count": null,
      "outputs": []
    },
    {
      "cell_type": "markdown",
      "source": [
        "# Universal Sentence Encoder"
      ],
      "metadata": {
        "id": "NkJrRDoE45Ar"
      }
    },
    {
      "cell_type": "code",
      "source": [
        "sentence_encoder_layer = hub.KerasLayer(\"https://tfhub.dev/google/universal-sentence-encoder/4\",\n",
        "                                        input_shape=[],\n",
        "                                        dtype=tf.string,\n",
        "                                        trainable=False,\n",
        "                                        name=\"USE\")\n",
        "\n",
        "tf.random.set_seed(42)\n",
        "model_USE = tf.keras.Sequential([\n",
        "    sentence_encoder_layer,\n",
        "    tf.keras.layers.Dense(64, activation=\"relu\"),\n",
        "    tf.keras.layers.Dense(2, activation=\"softmax\")\n",
        "], name=\"model_USE\")\n",
        "\n",
        "model_USE.compile(loss=\"categorical_crossentropy\",\n",
        "                  optimizer=tf.keras.optimizers.Adam(),\n",
        "                  metrics=[\"accuracy\"])\n",
        "\n",
        "model_USE.summary()"
      ],
      "metadata": {
        "colab": {
          "base_uri": "https://localhost:8080/"
        },
        "id": "e3SFRUseStHj",
        "outputId": "f2d7b3b6-d877-495c-cc32-37d20e119c3a"
      },
      "execution_count": null,
      "outputs": [
        {
          "output_type": "stream",
          "name": "stdout",
          "text": [
            "Model: \"model_USE\"\n",
            "_________________________________________________________________\n",
            " Layer (type)                Output Shape              Param #   \n",
            "=================================================================\n",
            " USE (KerasLayer)            (None, 512)               256797824 \n",
            "                                                                 \n",
            " dense (Dense)               (None, 64)                32832     \n",
            "                                                                 \n",
            " dense_1 (Dense)             (None, 2)                 130       \n",
            "                                                                 \n",
            "=================================================================\n",
            "Total params: 256830786 (979.73 MB)\n",
            "Trainable params: 32962 (128.76 KB)\n",
            "Non-trainable params: 256797824 (979.61 MB)\n",
            "_________________________________________________________________\n"
          ]
        }
      ]
    },
    {
      "cell_type": "code",
      "source": [
        "checkpoint_path = \"best_model_USE\"\n",
        "cc = ModelCheckpoint(filepath=checkpoint_path,\n",
        "                     monitor='val_accuracy',\n",
        "                     mode='max',\n",
        "                     save_best_only=True,\n",
        "                     verbose=1)"
      ],
      "metadata": {
        "id": "27dVc7LeSusK"
      },
      "execution_count": null,
      "outputs": []
    },
    {
      "cell_type": "code",
      "source": [
        "model_USE_history = model_USE.fit(train_texts, y_train,\n",
        "                                  epochs=10,\n",
        "                                  validation_data=(val_texts, y_val),\n",
        "                                  callbacks=[cc])"
      ],
      "metadata": {
        "colab": {
          "base_uri": "https://localhost:8080/"
        },
        "id": "_s4fPJe-Sv5C",
        "outputId": "6a689cb8-b631-4a98-d599-bef6857d94a0"
      },
      "execution_count": null,
      "outputs": [
        {
          "output_type": "stream",
          "name": "stdout",
          "text": [
            "Epoch 1/10\n",
            "747/750 [============================>.] - ETA: 0s - loss: 0.3340 - accuracy: 0.8619\n",
            "Epoch 1: val_accuracy improved from -inf to 0.87361, saving model to best_model_USE\n",
            "750/750 [==============================] - 24s 25ms/step - loss: 0.3342 - accuracy: 0.8618 - val_loss: 0.2934 - val_accuracy: 0.8736\n",
            "Epoch 2/10\n",
            "750/750 [==============================] - ETA: 0s - loss: 0.2904 - accuracy: 0.8772\n",
            "Epoch 2: val_accuracy improved from 0.87361 to 0.88861, saving model to best_model_USE\n",
            "750/750 [==============================] - 19s 26ms/step - loss: 0.2904 - accuracy: 0.8772 - val_loss: 0.2750 - val_accuracy: 0.8886\n",
            "Epoch 3/10\n",
            "750/750 [==============================] - ETA: 0s - loss: 0.2829 - accuracy: 0.8793\n",
            "Epoch 3: val_accuracy did not improve from 0.88861\n",
            "750/750 [==============================] - 11s 15ms/step - loss: 0.2829 - accuracy: 0.8793 - val_loss: 0.2708 - val_accuracy: 0.8856\n",
            "Epoch 4/10\n",
            "747/750 [============================>.] - ETA: 0s - loss: 0.2748 - accuracy: 0.8833\n",
            "Epoch 4: val_accuracy improved from 0.88861 to 0.89111, saving model to best_model_USE\n",
            "750/750 [==============================] - 18s 24ms/step - loss: 0.2745 - accuracy: 0.8835 - val_loss: 0.2621 - val_accuracy: 0.8911\n",
            "Epoch 5/10\n",
            "749/750 [============================>.] - ETA: 0s - loss: 0.2674 - accuracy: 0.8879\n",
            "Epoch 5: val_accuracy did not improve from 0.89111\n",
            "750/750 [==============================] - 11s 15ms/step - loss: 0.2673 - accuracy: 0.8879 - val_loss: 0.2585 - val_accuracy: 0.8894\n",
            "Epoch 6/10\n",
            "748/750 [============================>.] - ETA: 0s - loss: 0.2597 - accuracy: 0.8918\n",
            "Epoch 6: val_accuracy improved from 0.89111 to 0.89750, saving model to best_model_USE\n",
            "750/750 [==============================] - 20s 27ms/step - loss: 0.2595 - accuracy: 0.8919 - val_loss: 0.2456 - val_accuracy: 0.8975\n",
            "Epoch 7/10\n",
            "749/750 [============================>.] - ETA: 0s - loss: 0.2510 - accuracy: 0.8958\n",
            "Epoch 7: val_accuracy improved from 0.89750 to 0.89861, saving model to best_model_USE\n",
            "750/750 [==============================] - 18s 24ms/step - loss: 0.2513 - accuracy: 0.8957 - val_loss: 0.2385 - val_accuracy: 0.8986\n",
            "Epoch 8/10\n",
            "747/750 [============================>.] - ETA: 0s - loss: 0.2428 - accuracy: 0.8996\n",
            "Epoch 8: val_accuracy improved from 0.89861 to 0.90861, saving model to best_model_USE\n",
            "750/750 [==============================] - 19s 25ms/step - loss: 0.2430 - accuracy: 0.8995 - val_loss: 0.2252 - val_accuracy: 0.9086\n",
            "Epoch 9/10\n",
            "748/750 [============================>.] - ETA: 0s - loss: 0.2342 - accuracy: 0.9047\n",
            "Epoch 9: val_accuracy improved from 0.90861 to 0.91056, saving model to best_model_USE\n",
            "750/750 [==============================] - 18s 24ms/step - loss: 0.2340 - accuracy: 0.9048 - val_loss: 0.2219 - val_accuracy: 0.9106\n",
            "Epoch 10/10\n",
            "750/750 [==============================] - ETA: 0s - loss: 0.2262 - accuracy: 0.9080\n",
            "Epoch 10: val_accuracy improved from 0.91056 to 0.91639, saving model to best_model_USE\n",
            "750/750 [==============================] - 18s 24ms/step - loss: 0.2262 - accuracy: 0.9080 - val_loss: 0.2076 - val_accuracy: 0.9164\n"
          ]
        }
      ]
    },
    {
      "cell_type": "code",
      "source": [
        "from sklearn.metrics import accuracy_score, precision_recall_fscore_support\n",
        "\n",
        "def calculate_results(y_true, y_pred):\n",
        "  model_accuracy = accuracy_score(y_true, y_pred) * 100\n",
        "  model_precision, model_recall, model_f1, _ = precision_recall_fscore_support(y_true, y_pred, average=\"weighted\")\n",
        "  model_results = {\"accuracy\": model_accuracy,\n",
        "                  \"precision\": model_precision,\n",
        "                  \"recall\": model_recall,\n",
        "                  \"f1\": model_f1}\n",
        "  return model_results"
      ],
      "metadata": {
        "id": "2o9i53bqT7n8"
      },
      "execution_count": null,
      "outputs": []
    },
    {
      "cell_type": "code",
      "source": [
        "from tensorflow.keras.models import load_model\n",
        "import matplotlib.pyplot as plt\n",
        "\n",
        "model_USE = load_model(checkpoint_path)\n",
        "model_USE.evaluate(val_texts, y_val)\n",
        "\n",
        "def plot_graphs(history, string):\n",
        "    plt.plot(history.history[string])\n",
        "    plt.plot(history.history['val_' + string])\n",
        "    plt.xlabel(\"Epochs\")\n",
        "    plt.ylabel(string)\n",
        "    plt.legend([string, 'val_' + string])\n",
        "    plt.show()\n",
        "\n",
        "plot_graphs(model_USE_history, 'accuracy')\n",
        "plot_graphs(model_USE_history, 'loss')\n",
        "\n",
        "model_USE_pred_probs = model_USE.predict(val_texts)\n",
        "\n",
        "model_USE_preds = tf.argmax(model_USE_pred_probs, axis=1)\n",
        "model_USE_results = calculate_results(val_labels, model_USE_preds)\n"
      ],
      "metadata": {
        "colab": {
          "base_uri": "https://localhost:8080/",
          "height": 920
        },
        "id": "H6nSfD1JS-mT",
        "outputId": "a6fac36e-f4ee-4385-fb84-807f3bf1477e"
      },
      "execution_count": null,
      "outputs": [
        {
          "output_type": "stream",
          "name": "stdout",
          "text": [
            "113/113 [==============================] - 2s 12ms/step - loss: 0.2076 - accuracy: 0.9164\n"
          ]
        },
        {
          "output_type": "display_data",
          "data": {
            "text/plain": [
              "<Figure size 640x480 with 1 Axes>"
            ],
            "image/png": "[encoded data removed]"
          },
          "metadata": {}
        },
        {
          "output_type": "display_data",
          "data": {
            "text/plain": [
              "<Figure size 640x480 with 1 Axes>"
            ],
            "image/png": "[encoded data removed]"
          },
          "metadata": {}
        },
        {
          "output_type": "stream",
          "name": "stdout",
          "text": [
            "113/113 [==============================] - 2s 12ms/step\n"
          ]
        }
      ]
    },
    {
      "cell_type": "code",
      "source": [
        "best_use = load_model(checkpoint_path)\n",
        "score_use, acc_use = best_use.evaluate(val_texts, y_val, verbose=0)\n",
        "print(\"Baseline USE Model on Amazon Reviews Dataset\")\n",
        "print(f'Test loss for USE model: {score_use:.3f}')\n",
        "print(f'Test accuracy for USE model: {acc_use:.3f}')\n",
        "print()"
      ],
      "metadata": {
        "colab": {
          "base_uri": "https://localhost:8080/"
        },
        "id": "Qzi0hkObU-Tv",
        "outputId": "2a27b804-d5cd-4ea7-9fe5-37b77445d8e0"
      },
      "execution_count": null,
      "outputs": [
        {
          "output_type": "stream",
          "name": "stdout",
          "text": [
            "Baseline USE Model on Amazon Reviews Dataset\n",
            "Test loss for USE model: 0.208\n",
            "Test accuracy for USE model: 0.916\n",
            "\n"
          ]
        }
      ]
    },
    {
      "cell_type": "markdown",
      "source": [
        "# Testing on Yelp"
      ],
      "metadata": {
        "id": "xrfPEgZhV4FH"
      }
    },
    {
      "cell_type": "code",
      "source": [
        "yelp_df = pd.read_csv('yelp_test.csv')"
      ],
      "metadata": {
        "id": "xAzsIMwcV5dL"
      },
      "execution_count": null,
      "outputs": []
    },
    {
      "cell_type": "code",
      "source": [
        "yelp_df = yelp_df.drop(['Unnamed: 0'], axis=1)"
      ],
      "metadata": {
        "id": "ADYnaBsfX0uy"
      },
      "execution_count": null,
      "outputs": []
    },
    {
      "cell_type": "code",
      "source": [
        "yelp_df"
      ],
      "metadata": {
        "colab": {
          "base_uri": "https://localhost:8080/",
          "height": 423
        },
        "id": "cXnI7_h3YEkK",
        "outputId": "459c228b-1702-4cb9-eb9b-7c30c62435af"
      },
      "execution_count": null,
      "outputs": [
        {
          "output_type": "execute_result",
          "data": {
            "text/plain": [
              "      Label                                             Review\n",
              "0         1  I visited Le Taj for their lunch buffet and re...\n",
              "1         0  Have to say this location totally dropped the ...\n",
              "2         0  I received a recommendation to eat here from t...\n",
              "3         1  Tried the Triple Bypass Burger with bacon. It ...\n",
              "4         0  Although the severs and staff are extremely fr...\n",
              "...     ...                                                ...\n",
              "5694      1  Excellent in every aspect.  Had the White Fish...\n",
              "5695      1  The food is pretty authentic made fresh and a ...\n",
              "5696      0  having been to Fuego for group events I though...\n",
              "5697      0  Do not go here for late night dinner hours. Th...\n",
              "5698      0  food - okay, $$ was okay, selection was wide e...\n",
              "\n",
              "[5699 rows x 2 columns]"
            ],
            "text/html": [
              "\n",
              "  <div id=\"df-9983cb74-889a-4e7d-889c-21d11d8853ce\" class=\"colab-df-container\">\n",
              "    <div>\n",
              "<style scoped>\n",
              "    .dataframe tbody tr th:only-of-type {\n",
              "        vertical-align: middle;\n",
              "    }\n",
              "\n",
              "    .dataframe tbody tr th {\n",
              "        vertical-align: top;\n",
              "    }\n",
              "\n",
              "    .dataframe thead th {\n",
              "        text-align: right;\n",
              "    }\n",
              "</style>\n",
              "<table border=\"1\" class=\"dataframe\">\n",
              "  <thead>\n",
              "    <tr style=\"text-align: right;\">\n",
              "      <th></th>\n",
              "      <th>Label</th>\n",
              "      <th>Review</th>\n",
              "    </tr>\n",
              "  </thead>\n",
              "  <tbody>\n",
              "    <tr>\n",
              "      <th>0</th>\n",
              "      <td>1</td>\n",
              "      <td>I visited Le Taj for their lunch buffet and re...</td>\n",
              "    </tr>\n",
              "    <tr>\n",
              "      <th>1</th>\n",
              "      <td>0</td>\n",
              "      <td>Have to say this location totally dropped the ...</td>\n",
              "    </tr>\n",
              "    <tr>\n",
              "      <th>2</th>\n",
              "      <td>0</td>\n",
              "      <td>I received a recommendation to eat here from t...</td>\n",
              "    </tr>\n",
              "    <tr>\n",
              "      <th>3</th>\n",
              "      <td>1</td>\n",
              "      <td>Tried the Triple Bypass Burger with bacon. It ...</td>\n",
              "    </tr>\n",
              "    <tr>\n",
              "      <th>4</th>\n",
              "      <td>0</td>\n",
              "      <td>Although the severs and staff are extremely fr...</td>\n",
              "    </tr>\n",
              "    <tr>\n",
              "      <th>...</th>\n",
              "      <td>...</td>\n",
              "      <td>...</td>\n",
              "    </tr>\n",
              "    <tr>\n",
              "      <th>5694</th>\n",
              "      <td>1</td>\n",
              "      <td>Excellent in every aspect.  Had the White Fish...</td>\n",
              "    </tr>\n",
              "    <tr>\n",
              "      <th>5695</th>\n",
              "      <td>1</td>\n",
              "      <td>The food is pretty authentic made fresh and a ...</td>\n",
              "    </tr>\n",
              "    <tr>\n",
              "      <th>5696</th>\n",
              "      <td>0</td>\n",
              "      <td>having been to Fuego for group events I though...</td>\n",
              "    </tr>\n",
              "    <tr>\n",
              "      <th>5697</th>\n",
              "      <td>0</td>\n",
              "      <td>Do not go here for late night dinner hours. Th...</td>\n",
              "    </tr>\n",
              "    <tr>\n",
              "      <th>5698</th>\n",
              "      <td>0</td>\n",
              "      <td>food - okay, $$ was okay, selection was wide e...</td>\n",
              "    </tr>\n",
              "  </tbody>\n",
              "</table>\n",
              "<p>5699 rows × 2 columns</p>\n",
              "</div>\n",
              "    <div class=\"colab-df-buttons\">\n",
              "\n",
              "  <div class=\"colab-df-container\">\n",
              "    <button class=\"colab-df-convert\" onclick=\"convertToInteractive('df-9983cb74-889a-4e7d-889c-21d11d8853ce')\"\n",
              "            title=\"Convert this dataframe to an interactive table.\"\n",
              "            style=\"display:none;\">\n",
              "\n",
              "  <svg xmlns=\"http://www.w3.org/2000/svg\" height=\"24px\" viewBox=\"0 -960 960 960\">\n",
              "    <path d=\"M120-120v-720h720v720H120Zm60-500h600v-160H180v160Zm220 220h160v-160H400v160Zm0 220h160v-160H400v160ZM180-400h160v-160H180v160Zm440 0h160v-160H620v160ZM180-180h160v-160H180v160Zm440 0h160v-160H620v160Z\"/>\n",
              "  </svg>\n",
              "    </button>\n",
              "\n",
              "  <style>\n",
              "    .colab-df-container {\n",
              "      display:flex;\n",
              "      gap: 12px;\n",
              "    }\n",
              "\n",
              "    .colab-df-convert {\n",
              "      background-color: #E8F0FE;\n",
              "      border: none;\n",
              "      border-radius: 50%;\n",
              "      cursor: pointer;\n",
              "      display: none;\n",
              "      fill: #1967D2;\n",
              "      height: 32px;\n",
              "      padding: 0 0 0 0;\n",
              "      width: 32px;\n",
              "    }\n",
              "\n",
              "    .colab-df-convert:hover {\n",
              "      background-color: #E2EBFA;\n",
              "      box-shadow: 0px 1px 2px rgba(60, 64, 67, 0.3), 0px 1px 3px 1px rgba(60, 64, 67, 0.15);\n",
              "      fill: #174EA6;\n",
              "    }\n",
              "\n",
              "    .colab-df-buttons div {\n",
              "      margin-bottom: 4px;\n",
              "    }\n",
              "\n",
              "    [theme=dark] .colab-df-convert {\n",
              "      background-color: #3B4455;\n",
              "      fill: #D2E3FC;\n",
              "    }\n",
              "\n",
              "    [theme=dark] .colab-df-convert:hover {\n",
              "      background-color: #434B5C;\n",
              "      box-shadow: 0px 1px 3px 1px rgba(0, 0, 0, 0.15);\n",
              "      filter: drop-shadow(0px 1px 2px rgba(0, 0, 0, 0.3));\n",
              "      fill: #FFFFFF;\n",
              "    }\n",
              "  </style>\n",
              "\n",
              "    <script>\n",
              "      const buttonEl =\n",
              "        document.querySelector('#df-9983cb74-889a-4e7d-889c-21d11d8853ce button.colab-df-convert');\n",
              "      buttonEl.style.display =\n",
              "        google.colab.kernel.accessAllowed ? 'block' : 'none';\n",
              "\n",
              "      async function convertToInteractive(key) {\n",
              "        const element = document.querySelector('#df-9983cb74-889a-4e7d-889c-21d11d8853ce');\n",
              "        const dataTable =\n",
              "          await google.colab.kernel.invokeFunction('convertToInteractive',\n",
              "                                                    [key], {});\n",
              "        if (!dataTable) return;\n",
              "\n",
              "        const docLinkHtml = 'Like what you see? Visit the ' +\n",
              "          '<a target=\"_blank\" href=https://colab.research.google.com/notebooks/data_table.ipynb>data table notebook</a>'\n",
              "          + ' to learn more about interactive tables.';\n",
              "        element.innerHTML = '';\n",
              "        dataTable['output_type'] = 'display_data';\n",
              "        await google.colab.output.renderOutput(dataTable, element);\n",
              "        const docLink = document.createElement('div');\n",
              "        docLink.innerHTML = docLinkHtml;\n",
              "        element.appendChild(docLink);\n",
              "      }\n",
              "    </script>\n",
              "  </div>\n",
              "\n",
              "\n",
              "<div id=\"df-e678ea31-45f7-4234-8e2b-a79197af74e3\">\n",
              "  <button class=\"colab-df-quickchart\" onclick=\"quickchart('df-e678ea31-45f7-4234-8e2b-a79197af74e3')\"\n",
              "            title=\"Suggest charts\"\n",
              "            style=\"display:none;\">\n",
              "\n",
              "<svg xmlns=\"http://www.w3.org/2000/svg\" height=\"24px\"viewBox=\"0 0 24 24\"\n",
              "     width=\"24px\">\n",
              "    <g>\n",
              "        <path d=\"M19 3H5c-1.1 0-2 .9-2 2v14c0 1.1.9 2 2 2h14c1.1 0 2-.9 2-2V5c0-1.1-.9-2-2-2zM9 17H7v-7h2v7zm4 0h-2V7h2v10zm4 0h-2v-4h2v4z\"/>\n",
              "    </g>\n",
              "</svg>\n",
              "  </button>\n",
              "\n",
              "<style>\n",
              "  .colab-df-quickchart {\n",
              "      --bg-color: #E8F0FE;\n",
              "      --fill-color: #1967D2;\n",
              "      --hover-bg-color: #E2EBFA;\n",
              "      --hover-fill-color: #174EA6;\n",
              "      --disabled-fill-color: #AAA;\n",
              "      --disabled-bg-color: #DDD;\n",
              "  }\n",
              "\n",
              "  [theme=dark] .colab-df-quickchart {\n",
              "      --bg-color: #3B4455;\n",
              "      --fill-color: #D2E3FC;\n",
              "      --hover-bg-color: #434B5C;\n",
              "      --hover-fill-color: #FFFFFF;\n",
              "      --disabled-bg-color: #3B4455;\n",
              "      --disabled-fill-color: #666;\n",
              "  }\n",
              "\n",
              "  .colab-df-quickchart {\n",
              "    background-color: var(--bg-color);\n",
              "    border: none;\n",
              "    border-radius: 50%;\n",
              "    cursor: pointer;\n",
              "    display: none;\n",
              "    fill: var(--fill-color);\n",
              "    height: 32px;\n",
              "    padding: 0;\n",
              "    width: 32px;\n",
              "  }\n",
              "\n",
              "  .colab-df-quickchart:hover {\n",
              "    background-color: var(--hover-bg-color);\n",
              "    box-shadow: 0 1px 2px rgba(60, 64, 67, 0.3), 0 1px 3px 1px rgba(60, 64, 67, 0.15);\n",
              "    fill: var(--button-hover-fill-color);\n",
              "  }\n",
              "\n",
              "  .colab-df-quickchart-complete:disabled,\n",
              "  .colab-df-quickchart-complete:disabled:hover {\n",
              "    background-color: var(--disabled-bg-color);\n",
              "    fill: var(--disabled-fill-color);\n",
              "    box-shadow: none;\n",
              "  }\n",
              "\n",
              "  .colab-df-spinner {\n",
              "    border: 2px solid var(--fill-color);\n",
              "    border-color: transparent;\n",
              "    border-bottom-color: var(--fill-color);\n",
              "    animation:\n",
              "      spin 1s steps(1) infinite;\n",
              "  }\n",
              "\n",
              "  @keyframes spin {\n",
              "    0% {\n",
              "      border-color: transparent;\n",
              "      border-bottom-color: var(--fill-color);\n",
              "      border-left-color: var(--fill-color);\n",
              "    }\n",
              "    20% {\n",
              "      border-color: transparent;\n",
              "      border-left-color: var(--fill-color);\n",
              "      border-top-color: var(--fill-color);\n",
              "    }\n",
              "    30% {\n",
              "      border-color: transparent;\n",
              "      border-left-color: var(--fill-color);\n",
              "      border-top-color: var(--fill-color);\n",
              "      border-right-color: var(--fill-color);\n",
              "    }\n",
              "    40% {\n",
              "      border-color: transparent;\n",
              "      border-right-color: var(--fill-color);\n",
              "      border-top-color: var(--fill-color);\n",
              "    }\n",
              "    60% {\n",
              "      border-color: transparent;\n",
              "      border-right-color: var(--fill-color);\n",
              "    }\n",
              "    80% {\n",
              "      border-color: transparent;\n",
              "      border-right-color: var(--fill-color);\n",
              "      border-bottom-color: var(--fill-color);\n",
              "    }\n",
              "    90% {\n",
              "      border-color: transparent;\n",
              "      border-bottom-color: var(--fill-color);\n",
              "    }\n",
              "  }\n",
              "</style>\n",
              "\n",
              "  <script>\n",
              "    async function quickchart(key) {\n",
              "      const quickchartButtonEl =\n",
              "        document.querySelector('#' + key + ' button');\n",
              "      quickchartButtonEl.disabled = true;  // To prevent multiple clicks.\n",
              "      quickchartButtonEl.classList.add('colab-df-spinner');\n",
              "      try {\n",
              "        const charts = await google.colab.kernel.invokeFunction(\n",
              "            'suggestCharts', [key], {});\n",
              "      } catch (error) {\n",
              "        console.error('Error during call to suggestCharts:', error);\n",
              "      }\n",
              "      quickchartButtonEl.classList.remove('colab-df-spinner');\n",
              "      quickchartButtonEl.classList.add('colab-df-quickchart-complete');\n",
              "    }\n",
              "    (() => {\n",
              "      let quickchartButtonEl =\n",
              "        document.querySelector('#df-e678ea31-45f7-4234-8e2b-a79197af74e3 button');\n",
              "      quickchartButtonEl.style.display =\n",
              "        google.colab.kernel.accessAllowed ? 'block' : 'none';\n",
              "    })();\n",
              "  </script>\n",
              "</div>\n",
              "    </div>\n",
              "  </div>\n"
            ]
          },
          "metadata": {},
          "execution_count": 12
        }
      ]
    },
    {
      "cell_type": "code",
      "source": [
        "from tensorflow.keras.models import load_model\n",
        "from tensorflow.keras.optimizers import Adam\n",
        "\n",
        "train = pd.read_csv(\"./yelp_train.csv\")\n",
        "val = pd.read_csv(\"./yelp_val.csv\")\n",
        "test = pd.read_csv(\"./yelp_test.csv\")\n",
        "\n",
        "train_texts = train['Review'].to_numpy()\n",
        "train_labels = train['Label'].to_numpy()\n",
        "val_texts = val['Review'].to_numpy()\n",
        "val_labels = val['Label'].to_numpy()\n",
        "test_texts = test['Review'].to_numpy()\n",
        "test_labels = test['Label'].to_numpy()\n",
        "\n",
        "y_train = to_categorical(train_labels, 2)\n",
        "y_val = to_categorical(val_labels, 2)\n",
        "y_test = to_categorical(test_labels, 2)\n",
        "\n",
        "model_best_use_yelp = load_model(checkpoint_path)\n",
        "\n",
        "optimizer = Adam(learning_rate=0.001)\n",
        "model_best_use_yelp.compile(loss='categorical_crossentropy', optimizer=optimizer, metrics=['accuracy'])\n",
        "\n",
        "best_use_yelp_checkpoint_path = '/content/drive/MyDrive/advanced_project/models/best_use_yelp_model'\n",
        "best_use_yelp_checkpoint = ModelCheckpoint(\n",
        "    filepath=best_use_yelp_checkpoint_path,\n",
        "    save_best_only=True,\n",
        "    monitor='val_accuracy',\n",
        "    mode='max',\n",
        "    verbose=1\n",
        ")\n",
        "\n",
        "y_train_y = to_categorical(np.array(train_labels).astype('int'), 2)\n",
        "y_val_y = to_categorical(np.array(val_labels).astype('int'), 2)\n",
        "\n",
        "history_use_ft = model_best_use_yelp.fit(\n",
        "    train_texts, y_train_y,\n",
        "    batch_size=64,\n",
        "    validation_data=(val_texts, y_val_y),\n",
        "    epochs=10,\n",
        "    callbacks=[best_use_yelp_checkpoint]\n",
        ")\n",
        "\n",
        "model_best_use_yelp.evaluate(val_texts, y_val)\n",
        "\n",
        "def plot_graphs(history, string):\n",
        "    plt.plot(history.history[string])\n",
        "    plt.plot(history.history['val_' + string])\n",
        "    plt.xlabel(\"Epochs\")\n",
        "    plt.ylabel(string)\n",
        "    plt.legend([string, 'val_' + string])\n",
        "    plt.show()\n",
        "\n",
        "plot_graphs(model_USE_history, 'accuracy')\n",
        "plot_graphs(model_USE_history, 'loss')\n",
        "model_USE_pred_probs = model_USE.predict(val_texts)\n",
        "model_USE_preds = tf.argmax(model_USE_pred_probs, axis=1)\n",
        "model_USE_results = calculate_results(val_labels, model_USE_preds)"
      ],
      "metadata": {
        "colab": {
          "base_uri": "https://localhost:8080/",
          "height": 1000
        },
        "id": "nyTdkX4A-2Kp",
        "outputId": "81dcf70a-55e6-46cf-bdf7-656afcc2d984"
      },
      "execution_count": null,
      "outputs": [
        {
          "output_type": "stream",
          "name": "stdout",
          "text": [
            "Epoch 1/10\n",
            "416/416 [==============================] - ETA: 0s - loss: 0.2349 - accuracy: 0.9012\n",
            "Epoch 1: val_accuracy improved from -inf to 0.90876, saving model to /content/drive/MyDrive/advanced_project/models/best_use_yelp_model\n",
            "416/416 [==============================] - 31s 68ms/step - loss: 0.2349 - accuracy: 0.9012 - val_loss: 0.2251 - val_accuracy: 0.9088\n",
            "Epoch 2/10\n",
            "416/416 [==============================] - ETA: 0s - loss: 0.2144 - accuracy: 0.9111\n",
            "Epoch 2: val_accuracy improved from 0.90876 to 0.91156, saving model to /content/drive/MyDrive/advanced_project/models/best_use_yelp_model\n",
            "416/416 [==============================] - 29s 71ms/step - loss: 0.2144 - accuracy: 0.9111 - val_loss: 0.2187 - val_accuracy: 0.9116\n",
            "Epoch 3/10\n",
            "416/416 [==============================] - ETA: 0s - loss: 0.2050 - accuracy: 0.9163\n",
            "Epoch 3: val_accuracy did not improve from 0.91156\n",
            "416/416 [==============================] - 22s 53ms/step - loss: 0.2050 - accuracy: 0.9163 - val_loss: 0.2197 - val_accuracy: 0.9102\n",
            "Epoch 4/10\n",
            "416/416 [==============================] - ETA: 0s - loss: 0.1978 - accuracy: 0.9193\n",
            "Epoch 4: val_accuracy did not improve from 0.91156\n",
            "416/416 [==============================] - 20s 47ms/step - loss: 0.1978 - accuracy: 0.9193 - val_loss: 0.2170 - val_accuracy: 0.9084\n",
            "Epoch 5/10\n",
            "415/416 [============================>.] - ETA: 0s - loss: 0.1901 - accuracy: 0.9229\n",
            "Epoch 5: val_accuracy improved from 0.91156 to 0.91490, saving model to /content/drive/MyDrive/advanced_project/models/best_use_yelp_model\n",
            "416/416 [==============================] - 27s 65ms/step - loss: 0.1900 - accuracy: 0.9230 - val_loss: 0.2139 - val_accuracy: 0.9149\n",
            "Epoch 6/10\n",
            "416/416 [==============================] - ETA: 0s - loss: 0.1835 - accuracy: 0.9261\n",
            "Epoch 6: val_accuracy did not improve from 0.91490\n",
            "416/416 [==============================] - 21s 50ms/step - loss: 0.1835 - accuracy: 0.9261 - val_loss: 0.2123 - val_accuracy: 0.9137\n",
            "Epoch 7/10\n",
            "415/416 [============================>.] - ETA: 0s - loss: 0.1769 - accuracy: 0.9294\n",
            "Epoch 7: val_accuracy did not improve from 0.91490\n",
            "416/416 [==============================] - 20s 48ms/step - loss: 0.1768 - accuracy: 0.9295 - val_loss: 0.2218 - val_accuracy: 0.9096\n",
            "Epoch 8/10\n",
            "415/416 [============================>.] - ETA: 0s - loss: 0.1708 - accuracy: 0.9314\n",
            "Epoch 8: val_accuracy did not improve from 0.91490\n",
            "416/416 [==============================] - 20s 47ms/step - loss: 0.1707 - accuracy: 0.9314 - val_loss: 0.2135 - val_accuracy: 0.9137\n",
            "Epoch 9/10\n",
            "416/416 [==============================] - ETA: 0s - loss: 0.1639 - accuracy: 0.9353\n",
            "Epoch 9: val_accuracy did not improve from 0.91490\n",
            "416/416 [==============================] - 20s 48ms/step - loss: 0.1639 - accuracy: 0.9353 - val_loss: 0.2176 - val_accuracy: 0.9126\n",
            "Epoch 10/10\n",
            "416/416 [==============================] - ETA: 0s - loss: 0.1572 - accuracy: 0.9395\n",
            "Epoch 10: val_accuracy did not improve from 0.91490\n",
            "416/416 [==============================] - 19s 47ms/step - loss: 0.1572 - accuracy: 0.9395 - val_loss: 0.2178 - val_accuracy: 0.9131\n",
            "179/179 [==============================] - 4s 21ms/step - loss: 0.2178 - accuracy: 0.9131\n"
          ]
        },
        {
          "output_type": "display_data",
          "data": {
            "text/plain": [
              "<Figure size 640x480 with 1 Axes>"
            ],
            "image/png": "[encoded data removed]"
          },
          "metadata": {}
        },
        {
          "output_type": "display_data",
          "data": {
            "text/plain": [
              "<Figure size 640x480 with 1 Axes>"
            ],
            "image/png": "[encoded data removed]"
          },
          "metadata": {}
        },
        {
          "output_type": "stream",
          "name": "stdout",
          "text": [
            "179/179 [==============================] - 4s 22ms/step\n"
          ]
        }
      ]
    },
    {
      "cell_type": "code",
      "source": [
        "best_use_yelp_model = load_model(best_use_yelp_checkpoint_path)\n",
        "score_use, acc_use = best_use_yelp_model.evaluate(val_texts, y_val, verbose=0)\n",
        "print(\"Baseline USE Model on Yelp Dataset\")\n",
        "print(f'Test loss for USE model: {score_use:.3f}')\n",
        "print(f'Test accuracy for USE model: {acc_use:.3f}')\n",
        "print()"
      ],
      "metadata": {
        "colab": {
          "base_uri": "https://localhost:8080/"
        },
        "id": "pPA_widGDR7I",
        "outputId": "1d39202c-ac61-470c-91a8-3c2cc47fbfa4"
      },
      "execution_count": null,
      "outputs": [
        {
          "output_type": "stream",
          "name": "stdout",
          "text": [
            "Baseline USE Model on Yelp Dataset\n",
            "Test loss for USE model: 0.214\n",
            "Test accuracy for USE model: 0.915\n",
            "\n"
          ]
        }
      ]
    },
    {
      "cell_type": "markdown",
      "source": [
        "# Finetuning the Model on Yelp"
      ],
      "metadata": {
        "id": "O5wEdVbSaBvT"
      }
    },
    {
      "cell_type": "code",
      "source": [
        "from tensorflow.keras.models import load_model\n",
        "from tensorflow.keras.optimizers import Adam\n",
        "from tensorflow.keras.callbacks import ModelCheckpoint\n",
        "import numpy as np\n",
        "\n",
        "model_use_finetuned = load_model(checkpoint_path)\n",
        "\n",
        "optimizer = Adam(learning_rate=0.001)\n",
        "\n",
        "model_use_finetuned.compile(loss='categorical_crossentropy', optimizer=optimizer, metrics=['accuracy'])\n",
        "\n",
        "use_finetune_checkpoint_path = '/content/drive/MyDrive/advanced_project/models/use_finetuned_best_model'\n",
        "use_finetune_checkpoint = ModelCheckpoint(\n",
        "    filepath=use_finetune_checkpoint_path,\n",
        "    save_best_only=True,\n",
        "    monitor='val_accuracy',\n",
        "    mode='max',\n",
        "    verbose=1\n",
        ")\n",
        "\n",
        "y_train_y = to_categorical(np.array(train_labels).astype('int'), 2)\n",
        "y_val_y = to_categorical(np.array(val_labels).astype('int'), 2)\n",
        "\n",
        "history_use_ft = model_use_finetuned.fit(\n",
        "    train_texts, y_train_y,\n",
        "    batch_size=256,\n",
        "    validation_data=(val_texts, y_val_y),\n",
        "    epochs=10,\n",
        "    callbacks=[use_finetune_checkpoint]\n",
        ")\n"
      ],
      "metadata": {
        "colab": {
          "base_uri": "https://localhost:8080/"
        },
        "id": "Mw8BsbMwaDrp",
        "outputId": "c36c49b6-7653-4303-d61d-e47376b483e9"
      },
      "execution_count": null,
      "outputs": [
        {
          "output_type": "stream",
          "name": "stdout",
          "text": [
            "Epoch 1/10\n",
            "104/104 [==============================] - ETA: 0s - loss: 0.2406 - accuracy: 0.8998\n",
            "Epoch 1: val_accuracy improved from -inf to 0.90683, saving model to /content/drive/MyDrive/advanced_project/models/use_finetuned_best_model\n",
            "104/104 [==============================] - 31s 263ms/step - loss: 0.2406 - accuracy: 0.8998 - val_loss: 0.2295 - val_accuracy: 0.9068\n",
            "Epoch 2/10\n",
            "104/104 [==============================] - ETA: 0s - loss: 0.2203 - accuracy: 0.9088\n",
            "Epoch 2: val_accuracy improved from 0.90683 to 0.90946, saving model to /content/drive/MyDrive/advanced_project/models/use_finetuned_best_model\n",
            "104/104 [==============================] - 29s 285ms/step - loss: 0.2203 - accuracy: 0.9088 - val_loss: 0.2235 - val_accuracy: 0.9095\n",
            "Epoch 3/10\n",
            "104/104 [==============================] - ETA: 0s - loss: 0.2133 - accuracy: 0.9124\n",
            "Epoch 3: val_accuracy improved from 0.90946 to 0.91069, saving model to /content/drive/MyDrive/advanced_project/models/use_finetuned_best_model\n",
            "104/104 [==============================] - 28s 266ms/step - loss: 0.2133 - accuracy: 0.9124 - val_loss: 0.2203 - val_accuracy: 0.9107\n",
            "Epoch 4/10\n",
            "104/104 [==============================] - ETA: 0s - loss: 0.2075 - accuracy: 0.9144\n",
            "Epoch 4: val_accuracy improved from 0.91069 to 0.91367, saving model to /content/drive/MyDrive/advanced_project/models/use_finetuned_best_model\n",
            "104/104 [==============================] - 29s 284ms/step - loss: 0.2075 - accuracy: 0.9144 - val_loss: 0.2185 - val_accuracy: 0.9137\n",
            "Epoch 5/10\n",
            "104/104 [==============================] - ETA: 0s - loss: 0.2026 - accuracy: 0.9171\n",
            "Epoch 5: val_accuracy did not improve from 0.91367\n",
            "104/104 [==============================] - 21s 199ms/step - loss: 0.2026 - accuracy: 0.9171 - val_loss: 0.2176 - val_accuracy: 0.9128\n",
            "Epoch 6/10\n",
            "104/104 [==============================] - ETA: 0s - loss: 0.1985 - accuracy: 0.9191\n",
            "Epoch 6: val_accuracy did not improve from 0.91367\n",
            "104/104 [==============================] - 20s 191ms/step - loss: 0.1985 - accuracy: 0.9191 - val_loss: 0.2157 - val_accuracy: 0.9137\n",
            "Epoch 7/10\n",
            "104/104 [==============================] - ETA: 0s - loss: 0.1941 - accuracy: 0.9214\n",
            "Epoch 7: val_accuracy did not improve from 0.91367\n",
            "104/104 [==============================] - 20s 189ms/step - loss: 0.1941 - accuracy: 0.9214 - val_loss: 0.2185 - val_accuracy: 0.9105\n",
            "Epoch 8/10\n",
            "104/104 [==============================] - ETA: 0s - loss: 0.1907 - accuracy: 0.9228\n",
            "Epoch 8: val_accuracy improved from 0.91367 to 0.91525, saving model to /content/drive/MyDrive/advanced_project/models/use_finetuned_best_model\n",
            "104/104 [==============================] - 27s 264ms/step - loss: 0.1907 - accuracy: 0.9228 - val_loss: 0.2144 - val_accuracy: 0.9152\n",
            "Epoch 9/10\n",
            "104/104 [==============================] - ETA: 0s - loss: 0.1867 - accuracy: 0.9255\n",
            "Epoch 9: val_accuracy improved from 0.91525 to 0.91577, saving model to /content/drive/MyDrive/advanced_project/models/use_finetuned_best_model\n",
            "104/104 [==============================] - 30s 288ms/step - loss: 0.1867 - accuracy: 0.9255 - val_loss: 0.2136 - val_accuracy: 0.9158\n",
            "Epoch 10/10\n",
            "104/104 [==============================] - ETA: 0s - loss: 0.1832 - accuracy: 0.9263\n",
            "Epoch 10: val_accuracy improved from 0.91577 to 0.91683, saving model to /content/drive/MyDrive/advanced_project/models/use_finetuned_best_model\n",
            "104/104 [==============================] - 27s 263ms/step - loss: 0.1832 - accuracy: 0.9263 - val_loss: 0.2142 - val_accuracy: 0.9168\n"
          ]
        }
      ]
    },
    {
      "cell_type": "code",
      "source": [
        "finetune_use_best = load_model(use_finetune_checkpoint_path)\n",
        "\n",
        "y_test_y = np.array(test_labels)\n",
        "y_test_y = y_test_y.astype('int')\n",
        "y_test_y = to_categorical(y_test_y, 2)\n",
        "score_use, acc_use = best_use.evaluate(test_texts, y_test_y, verbose=0)\n",
        "\n",
        "print(\"Finetuned USE Model on Yelp Dataset\")\n",
        "print(f'Test loss for Fine-Tuned USE model: {score_use:.3f}')\n",
        "print(f'Test accuracy for Fine-Tuned USE model: {acc_use:.3f}')\n",
        "print()"
      ],
      "metadata": {
        "colab": {
          "base_uri": "https://localhost:8080/"
        },
        "id": "XqIHdXJefwsN",
        "outputId": "1b445645-68dd-4549-e71a-ef07c354768b"
      },
      "execution_count": null,
      "outputs": [
        {
          "output_type": "stream",
          "name": "stdout",
          "text": [
            "Finetuned USE Model on Yelp Dataset\n",
            "Test loss for Fine-Tuned USE model: 0.272\n",
            "Test accuracy for Fine-Tuned USE model: 0.886\n",
            "\n"
          ]
        }
      ]
    },
    {
      "cell_type": "markdown",
      "source": [
        "# Feature Extraction on the Model"
      ],
      "metadata": {
        "id": "s9ALpywYbrPU"
      }
    },
    {
      "cell_type": "code",
      "source": [
        "from tensorflow.keras.models import Model\n",
        "from tensorflow.keras.layers import Dropout, Dense\n",
        "from tensorflow.keras.optimizers import Adam\n",
        "from tensorflow.keras.callbacks import ModelCheckpoint, ReduceLROnPlateau\n",
        "\n",
        "pretrained_model = load_model(use_finetune_checkpoint_path)\n",
        "\n",
        "dropout_rate = 0.5\n",
        "x = Dropout(dropout_rate)(pretrained_model.layers[-2].output)\n",
        "output = Dense(units=pretrained_model.layers[-1].units, activation=pretrained_model.layers[-1].activation)(x)\n",
        "model = Model(inputs=pretrained_model.input, outputs=output)\n",
        "\n",
        "for layer in model.layers[:-2]:\n",
        "    layer.trainable = False\n",
        "\n",
        "optimizer = Adam(learning_rate=0.001)\n",
        "model.compile(loss='categorical_crossentropy', optimizer=optimizer, metrics=['accuracy'])\n",
        "\n",
        "use_feature_extraction_checkpoint_path = '/content/drive/MyDrive/advanced_project/models/use_feature_extraction_best_model'\n",
        "checkpoint = ModelCheckpoint(filepath=use_feature_extraction_checkpoint_path, save_best_only=True, monitor='val_accuracy', mode='max')\n",
        "lr_scheduler = ReduceLROnPlateau(monitor='val_loss', factor=0.1, patience=5)\n",
        "\n",
        "batch_size = 128\n",
        "\n",
        "history = model.fit(\n",
        "    train_texts, y_train_y,\n",
        "    batch_size=batch_size,\n",
        "    validation_data=(val_texts, y_val_y),\n",
        "    epochs=10,\n",
        "    callbacks=[checkpoint, lr_scheduler]\n",
        ")\n"
      ],
      "metadata": {
        "colab": {
          "base_uri": "https://localhost:8080/"
        },
        "id": "Qd_DEzjcdJYC",
        "outputId": "e186ec1f-e45d-489d-a78b-d644663ee730"
      },
      "execution_count": null,
      "outputs": [
        {
          "output_type": "stream",
          "name": "stdout",
          "text": [
            "Epoch 1/10\n",
            "208/208 [==============================] - 30s 129ms/step - loss: 0.4032 - accuracy: 0.8717 - val_loss: 0.2948 - val_accuracy: 0.9075 - lr: 0.0010\n",
            "Epoch 2/10\n",
            "208/208 [==============================] - 28s 136ms/step - loss: 0.2705 - accuracy: 0.9071 - val_loss: 0.2436 - val_accuracy: 0.9089 - lr: 0.0010\n",
            "Epoch 3/10\n",
            "208/208 [==============================] - 27s 130ms/step - loss: 0.2385 - accuracy: 0.9095 - val_loss: 0.2269 - val_accuracy: 0.9109 - lr: 0.0010\n",
            "Epoch 4/10\n",
            "208/208 [==============================] - 29s 141ms/step - loss: 0.2242 - accuracy: 0.9125 - val_loss: 0.2201 - val_accuracy: 0.9116 - lr: 0.0010\n",
            "Epoch 5/10\n",
            "208/208 [==============================] - 27s 129ms/step - loss: 0.2197 - accuracy: 0.9120 - val_loss: 0.2170 - val_accuracy: 0.9117 - lr: 0.0010\n",
            "Epoch 6/10\n",
            "208/208 [==============================] - 29s 140ms/step - loss: 0.2156 - accuracy: 0.9146 - val_loss: 0.2153 - val_accuracy: 0.9119 - lr: 0.0010\n",
            "Epoch 7/10\n",
            "208/208 [==============================] - 27s 129ms/step - loss: 0.2120 - accuracy: 0.9146 - val_loss: 0.2145 - val_accuracy: 0.9131 - lr: 0.0010\n",
            "Epoch 8/10\n",
            "208/208 [==============================] - 20s 95ms/step - loss: 0.2130 - accuracy: 0.9126 - val_loss: 0.2141 - val_accuracy: 0.9130 - lr: 0.0010\n",
            "Epoch 9/10\n",
            "208/208 [==============================] - 19s 92ms/step - loss: 0.2114 - accuracy: 0.9143 - val_loss: 0.2139 - val_accuracy: 0.9128 - lr: 0.0010\n",
            "Epoch 10/10\n",
            "208/208 [==============================] - 26s 126ms/step - loss: 0.2092 - accuracy: 0.9147 - val_loss: 0.2138 - val_accuracy: 0.9133 - lr: 0.0010\n"
          ]
        }
      ]
    },
    {
      "cell_type": "code",
      "source": [
        "use_feature_extraction_best_two = load_model(use_feature_extraction_checkpoint_path)\n",
        "\n",
        "y_test_y = np.array(test_labels)\n",
        "y_test_y = y_test_y.astype('int')\n",
        "y_test_y = to_categorical(y_test_y, 2)\n",
        "score_use, acc_use = best_use.evaluate(test_texts, y_test_y, verbose=0)\n",
        "\n",
        "print(\"Feature Extraction USE Model on Yelp Dataset\")\n",
        "print(f'Test loss for Fine-Tuned USE model: {score_use:.3f}')\n",
        "print(f'Test accuracy for Fine-Tuned USE model: {acc_use:.3f}')\n",
        "print()"
      ],
      "metadata": {
        "colab": {
          "base_uri": "https://localhost:8080/"
        },
        "id": "snYlIPG1D4PF",
        "outputId": "2dda2162-6936-4490-8f80-342db2a74852"
      },
      "execution_count": null,
      "outputs": [
        {
          "output_type": "stream",
          "name": "stdout",
          "text": [
            "Feature Extraction USE Model on Yelp Dataset\n",
            "Test loss for Fine-Tuned USE model: 0.272\n",
            "Test accuracy for Fine-Tuned USE model: 0.886\n",
            "\n"
          ]
        }
      ]
    }
  ]
}