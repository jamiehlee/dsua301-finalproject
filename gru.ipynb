{
  "nbformat": 4,
  "nbformat_minor": 0,
  "metadata": {
    "colab": {
      "provenance": []
    },
    "kernelspec": {
      "name": "python3",
      "display_name": "Python 3"
    },
    "language_info": {
      "name": "python"
    }
  },
  "cells": [
    {
      "cell_type": "code",
      "execution_count": null,
      "metadata": {
        "id": "WfSwK_I-RQYS"
      },
      "outputs": [],
      "source": [
        "import numpy as np\n",
        "import pandas as pd\n",
        "from tqdm import tqdm\n",
        "import itertools\n",
        "from sklearn.model_selection import train_test_split\n",
        "from spacy.tokenizer import Tokenizer\n",
        "from spacy.lang.en import English\n",
        "from tensorflow.keras.utils import to_categorical\n",
        "from tensorflow.keras.layers import LSTM, Embedding\n",
        "from tensorflow.keras.models import Sequential\n",
        "from tensorflow.keras.layers import Dense\n",
        "from tensorflow.keras.optimizers import Adam\n",
        "from tensorflow.keras.layers import Bidirectional\n",
        "from tensorflow.keras.callbacks import ModelCheckpoint\n",
        "from tensorflow.keras.models import load_model\n",
        "from tensorflow.keras.preprocessing.sequence import pad_sequences"
      ]
    },
    {
      "cell_type": "code",
      "source": [
        "# read preprocessed data\n",
        "train = pd.read_csv(\"train_sampled_reviews.csv\")\n",
        "val = pd.read_csv(\"val_sampled_reviews.csv\")\n",
        "test = pd.read_csv(\"test_sampled_reviews.csv\")"
      ],
      "metadata": {
        "id": "AEtTKWh_RaMc"
      },
      "execution_count": null,
      "outputs": []
    },
    {
      "cell_type": "code",
      "source": [
        "train_texts = train['Review'].to_numpy()\n",
        "train_labels = train['Label'].to_numpy()\n",
        "val_texts = val['Review'].to_numpy()\n",
        "val_labels = val['Label'].to_numpy()\n",
        "test_texts = test['Review'].to_numpy()\n",
        "test_labels = test['Label'].to_numpy()"
      ],
      "metadata": {
        "id": "av88w5eLSsUi"
      },
      "execution_count": null,
      "outputs": []
    },
    {
      "cell_type": "code",
      "source": [
        "def process_tokens(text):\n",
        "    \"\"\"\n",
        "    function to process tokens, replace any unwanted chars\n",
        "    \"\"\"\n",
        "    preprocessed_text = text.lower().replace(\",\", \"\").replace(\".\", \"\").replace(\":\", \"\").replace(\")\", \"\").replace(\"-\", \"\").replace(\"(\", \"\")\n",
        "    preprocessed_text = ''.join([i for i in preprocessed_text if not preprocessed_text.isdigit()])\n",
        "    return preprocessed_text\n",
        "\n",
        "def preprocessing(data, tokenizer):\n",
        "    preprocessed_data = []\n",
        "    for sentence in data:\n",
        "        sentence = process_tokens(sentence)\n",
        "        tokens = tokenizer(sentence)\n",
        "        tlist = []\n",
        "        for token in tokens:\n",
        "            tlist.append(str(token))\n",
        "        preprocessed_data.append(tlist)\n",
        "    return preprocessed_data\n",
        "\n",
        "nlp = English()\n",
        "tokenizer = Tokenizer(nlp.vocab)\n",
        "train_data = preprocessing(train_texts, tokenizer)\n",
        "val_data = preprocessing(val_texts, tokenizer)\n",
        "test_data = preprocessing(test_texts, tokenizer)\n",
        "\n",
        "## Creating a vectorizer to vectorize text and create matrix of features\n",
        "## Bag of words technique\n",
        "class Vectorizer():\n",
        "    def __init__(self, max_features):\n",
        "        self.max_features = max_features\n",
        "        self.vocab_list = None\n",
        "        self.token_to_index = None\n",
        "\n",
        "    def fit(self, dataset):\n",
        "        word_dict = {}\n",
        "        for sentence in dataset:\n",
        "            for token in sentence:\n",
        "                if token not in word_dict:\n",
        "                    word_dict[token] = 1\n",
        "                else:\n",
        "                    word_dict[token] += 1\n",
        "        word_dict = dict(sorted(word_dict.items(), key=lambda item: item[1], reverse=True))\n",
        "        end_to_slice = min(len(word_dict), self.max_features)\n",
        "        word_dict = dict(itertools.islice(word_dict.items(), end_to_slice))\n",
        "        self.vocab_list = list(word_dict.keys())\n",
        "        self.token_to_index = {}\n",
        "        counter = 0\n",
        "        for token in self.vocab_list:\n",
        "            self.token_to_index[token] = counter\n",
        "            counter += 1\n",
        "\n",
        "\n",
        "    def transform(self, dataset):\n",
        "        data_matrix = np.zeros((len(dataset), len(self.vocab_list)))\n",
        "        for i, sentence in enumerate(dataset):\n",
        "            for token in sentence:\n",
        "                if token in self.token_to_index:\n",
        "                    data_matrix[i, self.token_to_index[token]] += 1\n",
        "        return data_matrix\n",
        "\n",
        "## max features - top k words to consider only\n",
        "max_features = 2000\n",
        "\n",
        "vectorizer = Vectorizer(max_features=max_features)\n",
        "vectorizer.fit(train_data)\n",
        "\n",
        "## Checking if the len of vocab = k\n",
        "X_train = vectorizer.transform(train_data)\n",
        "X_val = vectorizer.transform(val_data)\n",
        "X_test = vectorizer.transform(test_data)\n",
        "\n",
        "y_train = np.array(train_labels)\n",
        "y_val = np.array(val_labels)\n",
        "y_test = np.array(test_labels)\n",
        "\n",
        "vocab = vectorizer.vocab_list"
      ],
      "metadata": {
        "id": "_ks_PHuKSuQD"
      },
      "execution_count": null,
      "outputs": []
    },
    {
      "cell_type": "code",
      "source": [
        "y_train = y_train.astype('int')\n",
        "y_val = y_val.astype('int')\n",
        "y_test = y_test.astype('int')\n",
        "\n",
        "y_train = to_categorical(y_train, 2)\n",
        "y_val = to_categorical(y_val, 2)\n",
        "y_test = to_categorical(y_test, 2)\n",
        "\n",
        "X_train = X_train.reshape(-1, 1, X_train.shape[1])\n",
        "X_val = X_val.reshape(-1, 1, X_val.shape[1])\n",
        "X_test = X_test.reshape(-1, 1, X_test.shape[1])\n",
        "\n",
        "y_train = y_train.reshape(-1, 2)\n",
        "y_val = y_val.reshape(-1, 2)\n",
        "y_test = y_test.reshape(-1, 2)\n",
        "\n",
        "print(f'X_train.shape: {X_train.shape}, y_train.shape: {y_train.shape}')"
      ],
      "metadata": {
        "colab": {
          "base_uri": "https://localhost:8080/"
        },
        "id": "WeRRl7HIS3u_",
        "outputId": "4c5f922f-5f30-4268-fdb0-73942986fa5c"
      },
      "execution_count": null,
      "outputs": [
        {
          "output_type": "stream",
          "name": "stdout",
          "text": [
            "X_train.shape: (24000, 1, 2000), y_train.shape: (24000, 2)\n"
          ]
        }
      ]
    },
    {
      "cell_type": "code",
      "source": [
        "from keras.models import Sequential\n",
        "from keras.layers import GRU, Dense, BatchNormalization\n",
        "from keras.optimizers import Adam\n",
        "from keras.callbacks import ModelCheckpoint\n",
        "\n",
        "model_gru = Sequential()\n",
        "model_gru.add(GRU(64, input_shape=(1, max_features)))\n",
        "model_gru.add(BatchNormalization())\n",
        "model_gru.add(Dense(2, activation='softmax'))\n",
        "\n",
        "\n",
        "optimizer = Adam(learning_rate=0.01)\n",
        "model_gru.compile(loss='categorical_crossentropy', optimizer=optimizer, metrics=['accuracy'])\n",
        "\n",
        "gru_checkpoint_path = '/content/drive/MyDrive/advanced_project/models/gru_best_model'\n",
        "gru_checkpoint = ModelCheckpoint(\n",
        "    filepath=gru_checkpoint_path,\n",
        "    save_best_only=True,\n",
        "    monitor='val_accuracy',\n",
        "    mode='max',\n",
        "    verbose=1\n",
        ")\n",
        "\n",
        "\n",
        "print(model_gru.summary())\n",
        "\n",
        "\n",
        "history_gru = model_gru.fit(X_train, y_train,\n",
        "                            batch_size=256,\n",
        "                            validation_data=(X_val, y_val),\n",
        "                            epochs=10,\n",
        "                            callbacks=[gru_checkpoint])\n",
        "\n",
        "print(history_gru.history.keys())\n"
      ],
      "metadata": {
        "colab": {
          "base_uri": "https://localhost:8080/"
        },
        "id": "8xd0LbUuU2yn",
        "outputId": "2ed14087-db21-465f-ea91-7a577f7d8eb7"
      },
      "execution_count": null,
      "outputs": [
        {
          "output_type": "stream",
          "name": "stdout",
          "text": [
            "Model: \"sequential_3\"\n",
            "_________________________________________________________________\n",
            " Layer (type)                Output Shape              Param #   \n",
            "=================================================================\n",
            " gru_3 (GRU)                 (None, 64)                396672    \n",
            "                                                                 \n",
            " batch_normalization_1 (Bat  (None, 64)                256       \n",
            " chNormalization)                                                \n",
            "                                                                 \n",
            " dense_3 (Dense)             (None, 2)                 130       \n",
            "                                                                 \n",
            "=================================================================\n",
            "Total params: 397058 (1.51 MB)\n",
            "Trainable params: 396930 (1.51 MB)\n",
            "Non-trainable params: 128 (512.00 Byte)\n",
            "_________________________________________________________________\n",
            "None\n",
            "Epoch 1/10\n",
            "91/94 [============================>.] - ETA: 0s - loss: 0.3892 - accuracy: 0.8357\n",
            "Epoch 1: val_accuracy improved from -inf to 0.89806, saving model to /content/drive/MyDrive/advanced_project/models/gru_best_model\n",
            "94/94 [==============================] - 6s 51ms/step - loss: 0.3877 - accuracy: 0.8365 - val_loss: 0.3890 - val_accuracy: 0.8981\n",
            "Epoch 2/10\n",
            "90/94 [===========================>..] - ETA: 0s - loss: 0.2461 - accuracy: 0.8967\n",
            "Epoch 2: val_accuracy improved from 0.89806 to 0.93389, saving model to /content/drive/MyDrive/advanced_project/models/gru_best_model\n",
            "94/94 [==============================] - 3s 35ms/step - loss: 0.2473 - accuracy: 0.8964 - val_loss: 0.2961 - val_accuracy: 0.9339\n",
            "Epoch 3/10\n",
            "94/94 [==============================] - ETA: 0s - loss: 0.1666 - accuracy: 0.9348\n",
            "Epoch 3: val_accuracy improved from 0.93389 to 0.96111, saving model to /content/drive/MyDrive/advanced_project/models/gru_best_model\n",
            "94/94 [==============================] - 3s 35ms/step - loss: 0.1666 - accuracy: 0.9348 - val_loss: 0.1491 - val_accuracy: 0.9611\n",
            "Epoch 4/10\n",
            "93/94 [============================>.] - ETA: 0s - loss: 0.0832 - accuracy: 0.9693\n",
            "Epoch 4: val_accuracy improved from 0.96111 to 0.98222, saving model to /content/drive/MyDrive/advanced_project/models/gru_best_model\n",
            "94/94 [==============================] - 4s 39ms/step - loss: 0.0833 - accuracy: 0.9693 - val_loss: 0.0647 - val_accuracy: 0.9822\n",
            "Epoch 5/10\n",
            "92/94 [============================>.] - ETA: 0s - loss: 0.0411 - accuracy: 0.9858\n",
            "Epoch 5: val_accuracy improved from 0.98222 to 0.98250, saving model to /content/drive/MyDrive/advanced_project/models/gru_best_model\n",
            "94/94 [==============================] - 3s 35ms/step - loss: 0.0415 - accuracy: 0.9857 - val_loss: 0.0512 - val_accuracy: 0.9825\n",
            "Epoch 6/10\n",
            "89/94 [===========================>..] - ETA: 0s - loss: 0.0247 - accuracy: 0.9917\n",
            "Epoch 6: val_accuracy improved from 0.98250 to 0.99639, saving model to /content/drive/MyDrive/advanced_project/models/gru_best_model\n",
            "94/94 [==============================] - 4s 46ms/step - loss: 0.0250 - accuracy: 0.9916 - val_loss: 0.0113 - val_accuracy: 0.9964\n",
            "Epoch 7/10\n",
            "93/94 [============================>.] - ETA: 0s - loss: 0.0189 - accuracy: 0.9940\n",
            "Epoch 7: val_accuracy improved from 0.99639 to 0.99889, saving model to /content/drive/MyDrive/advanced_project/models/gru_best_model\n",
            "94/94 [==============================] - 4s 40ms/step - loss: 0.0189 - accuracy: 0.9940 - val_loss: 0.0083 - val_accuracy: 0.9989\n",
            "Epoch 8/10\n",
            "90/94 [===========================>..] - ETA: 0s - loss: 0.0153 - accuracy: 0.9946\n",
            "Epoch 8: val_accuracy did not improve from 0.99889\n",
            "94/94 [==============================] - 1s 12ms/step - loss: 0.0153 - accuracy: 0.9946 - val_loss: 0.0096 - val_accuracy: 0.9964\n",
            "Epoch 9/10\n",
            "94/94 [==============================] - ETA: 0s - loss: 0.0140 - accuracy: 0.9954\n",
            "Epoch 9: val_accuracy did not improve from 0.99889\n",
            "94/94 [==============================] - 1s 11ms/step - loss: 0.0140 - accuracy: 0.9954 - val_loss: 0.0124 - val_accuracy: 0.9950\n",
            "Epoch 10/10\n",
            "89/94 [===========================>..] - ETA: 0s - loss: 0.0148 - accuracy: 0.9952\n",
            "Epoch 10: val_accuracy did not improve from 0.99889\n",
            "94/94 [==============================] - 1s 11ms/step - loss: 0.0152 - accuracy: 0.9950 - val_loss: 0.0109 - val_accuracy: 0.9958\n",
            "dict_keys(['loss', 'accuracy', 'val_loss', 'val_accuracy'])\n"
          ]
        }
      ]
    },
    {
      "cell_type": "markdown",
      "source": [
        "Evaluation on Test Set"
      ],
      "metadata": {
        "id": "87HyILeNZIrp"
      }
    },
    {
      "cell_type": "code",
      "source": [
        "best_gru = load_model(gru_checkpoint_path)\n",
        "score_gru, acc_gru = best_gru.evaluate(X_test, y_test, verbose=0)\n",
        "print(f'Test loss for GRU model: {score_gru:.3f}')\n",
        "print(f'Test accuracy for GRU model: {acc_gru:.3f}')\n",
        "print()\n"
      ],
      "metadata": {
        "colab": {
          "base_uri": "https://localhost:8080/"
        },
        "id": "sjhZnl1DZFEw",
        "outputId": "f145c6e9-bb8b-4ff3-9f96-691d63c849fc"
      },
      "execution_count": null,
      "outputs": [
        {
          "output_type": "stream",
          "name": "stdout",
          "text": [
            "Test loss for GRU model: 0.837\n",
            "Test accuracy for GRU model: 0.848\n",
            "\n"
          ]
        }
      ]
    },
    {
      "cell_type": "markdown",
      "source": [
        "Yelp Dataset"
      ],
      "metadata": {
        "id": "IdUl72QuZkaE"
      }
    },
    {
      "cell_type": "code",
      "source": [
        "yelp_train = pd.read_csv('yelp_train.csv')\n",
        "yelp_train.drop(yelp_train.columns[0], axis=1, inplace=True)\n",
        "yelp_train.columns = ['Label', 'Review']\n",
        "yelp_train.head()\n",
        "\n",
        "yelp_val = pd.read_csv('yelp_val.csv')\n",
        "yelp_val.drop(yelp_val.columns[0], axis=1, inplace=True)\n",
        "yelp_val.columns = ['Label', 'Review']\n",
        "yelp_val.head()\n",
        "\n",
        "yelp_test = pd.read_csv('yelp_test.csv')\n",
        "yelp_test.drop(yelp_test.columns[0], axis=1, inplace=True)\n",
        "yelp_test.columns = ['Label', 'Review']\n",
        "yelp_test.head()\n",
        "\n"
      ],
      "metadata": {
        "colab": {
          "base_uri": "https://localhost:8080/",
          "height": 206
        },
        "id": "cX4wTkfEZmn2",
        "outputId": "fb632c00-766f-4795-ded1-45121b42d45e"
      },
      "execution_count": null,
      "outputs": [
        {
          "output_type": "execute_result",
          "data": {
            "text/plain": [
              "   Label                                             Review\n",
              "0      1  I visited Le Taj for their lunch buffet and re...\n",
              "1      0  Have to say this location totally dropped the ...\n",
              "2      0  I received a recommendation to eat here from t...\n",
              "3      1  Tried the Triple Bypass Burger with bacon. It ...\n",
              "4      0  Although the severs and staff are extremely fr..."
            ],
            "text/html": [
              "\n",
              "  <div id=\"df-0b7ededd-59fd-4e3a-b799-bb41cfccfd65\" class=\"colab-df-container\">\n",
              "    <div>\n",
              "<style scoped>\n",
              "    .dataframe tbody tr th:only-of-type {\n",
              "        vertical-align: middle;\n",
              "    }\n",
              "\n",
              "    .dataframe tbody tr th {\n",
              "        vertical-align: top;\n",
              "    }\n",
              "\n",
              "    .dataframe thead th {\n",
              "        text-align: right;\n",
              "    }\n",
              "</style>\n",
              "<table border=\"1\" class=\"dataframe\">\n",
              "  <thead>\n",
              "    <tr style=\"text-align: right;\">\n",
              "      <th></th>\n",
              "      <th>Label</th>\n",
              "      <th>Review</th>\n",
              "    </tr>\n",
              "  </thead>\n",
              "  <tbody>\n",
              "    <tr>\n",
              "      <th>0</th>\n",
              "      <td>1</td>\n",
              "      <td>I visited Le Taj for their lunch buffet and re...</td>\n",
              "    </tr>\n",
              "    <tr>\n",
              "      <th>1</th>\n",
              "      <td>0</td>\n",
              "      <td>Have to say this location totally dropped the ...</td>\n",
              "    </tr>\n",
              "    <tr>\n",
              "      <th>2</th>\n",
              "      <td>0</td>\n",
              "      <td>I received a recommendation to eat here from t...</td>\n",
              "    </tr>\n",
              "    <tr>\n",
              "      <th>3</th>\n",
              "      <td>1</td>\n",
              "      <td>Tried the Triple Bypass Burger with bacon. It ...</td>\n",
              "    </tr>\n",
              "    <tr>\n",
              "      <th>4</th>\n",
              "      <td>0</td>\n",
              "      <td>Although the severs and staff are extremely fr...</td>\n",
              "    </tr>\n",
              "  </tbody>\n",
              "</table>\n",
              "</div>\n",
              "    <div class=\"colab-df-buttons\">\n",
              "\n",
              "  <div class=\"colab-df-container\">\n",
              "    <button class=\"colab-df-convert\" onclick=\"convertToInteractive('df-0b7ededd-59fd-4e3a-b799-bb41cfccfd65')\"\n",
              "            title=\"Convert this dataframe to an interactive table.\"\n",
              "            style=\"display:none;\">\n",
              "\n",
              "  <svg xmlns=\"http://www.w3.org/2000/svg\" height=\"24px\" viewBox=\"0 -960 960 960\">\n",
              "    <path d=\"M120-120v-720h720v720H120Zm60-500h600v-160H180v160Zm220 220h160v-160H400v160Zm0 220h160v-160H400v160ZM180-400h160v-160H180v160Zm440 0h160v-160H620v160ZM180-180h160v-160H180v160Zm440 0h160v-160H620v160Z\"/>\n",
              "  </svg>\n",
              "    </button>\n",
              "\n",
              "  <style>\n",
              "    .colab-df-container {\n",
              "      display:flex;\n",
              "      gap: 12px;\n",
              "    }\n",
              "\n",
              "    .colab-df-convert {\n",
              "      background-color: #E8F0FE;\n",
              "      border: none;\n",
              "      border-radius: 50%;\n",
              "      cursor: pointer;\n",
              "      display: none;\n",
              "      fill: #1967D2;\n",
              "      height: 32px;\n",
              "      padding: 0 0 0 0;\n",
              "      width: 32px;\n",
              "    }\n",
              "\n",
              "    .colab-df-convert:hover {\n",
              "      background-color: #E2EBFA;\n",
              "      box-shadow: 0px 1px 2px rgba(60, 64, 67, 0.3), 0px 1px 3px 1px rgba(60, 64, 67, 0.15);\n",
              "      fill: #174EA6;\n",
              "    }\n",
              "\n",
              "    .colab-df-buttons div {\n",
              "      margin-bottom: 4px;\n",
              "    }\n",
              "\n",
              "    [theme=dark] .colab-df-convert {\n",
              "      background-color: #3B4455;\n",
              "      fill: #D2E3FC;\n",
              "    }\n",
              "\n",
              "    [theme=dark] .colab-df-convert:hover {\n",
              "      background-color: #434B5C;\n",
              "      box-shadow: 0px 1px 3px 1px rgba(0, 0, 0, 0.15);\n",
              "      filter: drop-shadow(0px 1px 2px rgba(0, 0, 0, 0.3));\n",
              "      fill: #FFFFFF;\n",
              "    }\n",
              "  </style>\n",
              "\n",
              "    <script>\n",
              "      const buttonEl =\n",
              "        document.querySelector('#df-0b7ededd-59fd-4e3a-b799-bb41cfccfd65 button.colab-df-convert');\n",
              "      buttonEl.style.display =\n",
              "        google.colab.kernel.accessAllowed ? 'block' : 'none';\n",
              "\n",
              "      async function convertToInteractive(key) {\n",
              "        const element = document.querySelector('#df-0b7ededd-59fd-4e3a-b799-bb41cfccfd65');\n",
              "        const dataTable =\n",
              "          await google.colab.kernel.invokeFunction('convertToInteractive',\n",
              "                                                    [key], {});\n",
              "        if (!dataTable) return;\n",
              "\n",
              "        const docLinkHtml = 'Like what you see? Visit the ' +\n",
              "          '<a target=\"_blank\" href=https://colab.research.google.com/notebooks/data_table.ipynb>data table notebook</a>'\n",
              "          + ' to learn more about interactive tables.';\n",
              "        element.innerHTML = '';\n",
              "        dataTable['output_type'] = 'display_data';\n",
              "        await google.colab.output.renderOutput(dataTable, element);\n",
              "        const docLink = document.createElement('div');\n",
              "        docLink.innerHTML = docLinkHtml;\n",
              "        element.appendChild(docLink);\n",
              "      }\n",
              "    </script>\n",
              "  </div>\n",
              "\n",
              "\n",
              "<div id=\"df-27a0fb06-2228-4b59-b0bb-8824b4d60b68\">\n",
              "  <button class=\"colab-df-quickchart\" onclick=\"quickchart('df-27a0fb06-2228-4b59-b0bb-8824b4d60b68')\"\n",
              "            title=\"Suggest charts\"\n",
              "            style=\"display:none;\">\n",
              "\n",
              "<svg xmlns=\"http://www.w3.org/2000/svg\" height=\"24px\"viewBox=\"0 0 24 24\"\n",
              "     width=\"24px\">\n",
              "    <g>\n",
              "        <path d=\"M19 3H5c-1.1 0-2 .9-2 2v14c0 1.1.9 2 2 2h14c1.1 0 2-.9 2-2V5c0-1.1-.9-2-2-2zM9 17H7v-7h2v7zm4 0h-2V7h2v10zm4 0h-2v-4h2v4z\"/>\n",
              "    </g>\n",
              "</svg>\n",
              "  </button>\n",
              "\n",
              "<style>\n",
              "  .colab-df-quickchart {\n",
              "      --bg-color: #E8F0FE;\n",
              "      --fill-color: #1967D2;\n",
              "      --hover-bg-color: #E2EBFA;\n",
              "      --hover-fill-color: #174EA6;\n",
              "      --disabled-fill-color: #AAA;\n",
              "      --disabled-bg-color: #DDD;\n",
              "  }\n",
              "\n",
              "  [theme=dark] .colab-df-quickchart {\n",
              "      --bg-color: #3B4455;\n",
              "      --fill-color: #D2E3FC;\n",
              "      --hover-bg-color: #434B5C;\n",
              "      --hover-fill-color: #FFFFFF;\n",
              "      --disabled-bg-color: #3B4455;\n",
              "      --disabled-fill-color: #666;\n",
              "  }\n",
              "\n",
              "  .colab-df-quickchart {\n",
              "    background-color: var(--bg-color);\n",
              "    border: none;\n",
              "    border-radius: 50%;\n",
              "    cursor: pointer;\n",
              "    display: none;\n",
              "    fill: var(--fill-color);\n",
              "    height: 32px;\n",
              "    padding: 0;\n",
              "    width: 32px;\n",
              "  }\n",
              "\n",
              "  .colab-df-quickchart:hover {\n",
              "    background-color: var(--hover-bg-color);\n",
              "    box-shadow: 0 1px 2px rgba(60, 64, 67, 0.3), 0 1px 3px 1px rgba(60, 64, 67, 0.15);\n",
              "    fill: var(--button-hover-fill-color);\n",
              "  }\n",
              "\n",
              "  .colab-df-quickchart-complete:disabled,\n",
              "  .colab-df-quickchart-complete:disabled:hover {\n",
              "    background-color: var(--disabled-bg-color);\n",
              "    fill: var(--disabled-fill-color);\n",
              "    box-shadow: none;\n",
              "  }\n",
              "\n",
              "  .colab-df-spinner {\n",
              "    border: 2px solid var(--fill-color);\n",
              "    border-color: transparent;\n",
              "    border-bottom-color: var(--fill-color);\n",
              "    animation:\n",
              "      spin 1s steps(1) infinite;\n",
              "  }\n",
              "\n",
              "  @keyframes spin {\n",
              "    0% {\n",
              "      border-color: transparent;\n",
              "      border-bottom-color: var(--fill-color);\n",
              "      border-left-color: var(--fill-color);\n",
              "    }\n",
              "    20% {\n",
              "      border-color: transparent;\n",
              "      border-left-color: var(--fill-color);\n",
              "      border-top-color: var(--fill-color);\n",
              "    }\n",
              "    30% {\n",
              "      border-color: transparent;\n",
              "      border-left-color: var(--fill-color);\n",
              "      border-top-color: var(--fill-color);\n",
              "      border-right-color: var(--fill-color);\n",
              "    }\n",
              "    40% {\n",
              "      border-color: transparent;\n",
              "      border-right-color: var(--fill-color);\n",
              "      border-top-color: var(--fill-color);\n",
              "    }\n",
              "    60% {\n",
              "      border-color: transparent;\n",
              "      border-right-color: var(--fill-color);\n",
              "    }\n",
              "    80% {\n",
              "      border-color: transparent;\n",
              "      border-right-color: var(--fill-color);\n",
              "      border-bottom-color: var(--fill-color);\n",
              "    }\n",
              "    90% {\n",
              "      border-color: transparent;\n",
              "      border-bottom-color: var(--fill-color);\n",
              "    }\n",
              "  }\n",
              "</style>\n",
              "\n",
              "  <script>\n",
              "    async function quickchart(key) {\n",
              "      const quickchartButtonEl =\n",
              "        document.querySelector('#' + key + ' button');\n",
              "      quickchartButtonEl.disabled = true;  // To prevent multiple clicks.\n",
              "      quickchartButtonEl.classList.add('colab-df-spinner');\n",
              "      try {\n",
              "        const charts = await google.colab.kernel.invokeFunction(\n",
              "            'suggestCharts', [key], {});\n",
              "      } catch (error) {\n",
              "        console.error('Error during call to suggestCharts:', error);\n",
              "      }\n",
              "      quickchartButtonEl.classList.remove('colab-df-spinner');\n",
              "      quickchartButtonEl.classList.add('colab-df-quickchart-complete');\n",
              "    }\n",
              "    (() => {\n",
              "      let quickchartButtonEl =\n",
              "        document.querySelector('#df-27a0fb06-2228-4b59-b0bb-8824b4d60b68 button');\n",
              "      quickchartButtonEl.style.display =\n",
              "        google.colab.kernel.accessAllowed ? 'block' : 'none';\n",
              "    })();\n",
              "  </script>\n",
              "</div>\n",
              "    </div>\n",
              "  </div>\n"
            ]
          },
          "metadata": {},
          "execution_count": 36
        }
      ]
    },
    {
      "cell_type": "code",
      "source": [
        "train_labels, train_texts = yelp_train.values[:,0], yelp_train.values[:,1]\n",
        "val_labels, val_texts = yelp_val.values[:,0], yelp_val.values[:,1]\n",
        "test_labels, test_texts = yelp_test.values[:,0], yelp_test.values[:,1]"
      ],
      "metadata": {
        "id": "t_MD574UboL1"
      },
      "execution_count": null,
      "outputs": []
    },
    {
      "cell_type": "code",
      "source": [
        "nlp = English()\n",
        "tokenizer = Tokenizer(nlp.vocab)\n",
        "\n",
        "train_data_y = preprocessing(train_texts, tokenizer)\n",
        "val_data_y = preprocessing(val_texts, tokenizer)\n",
        "test_data_y = preprocessing(test_texts, tokenizer)"
      ],
      "metadata": {
        "id": "srzfUFHoc_wg"
      },
      "execution_count": null,
      "outputs": []
    },
    {
      "cell_type": "code",
      "source": [
        "## max features - top k words to consider only\n",
        "max_features = 2000\n",
        "\n",
        "vectorizer_y = Vectorizer(max_features=max_features)\n",
        "vectorizer_y.fit(train_data_y)\n",
        "\n",
        "## Checking if the len of vocab = k\n",
        "X_train_y = vectorizer_y.transform(train_data_y)\n",
        "X_val_y = vectorizer_y.transform(val_data_y)\n",
        "X_test_y = vectorizer_y.transform(test_data_y)\n",
        "\n",
        "y_train_y = np.array(train_labels)\n",
        "y_val_y = np.array(val_labels)\n",
        "y_test_y = np.array(test_labels)\n",
        "\n",
        "vocab_y = vectorizer_y.vocab_list"
      ],
      "metadata": {
        "id": "HcKFiHzFdBGq"
      },
      "execution_count": null,
      "outputs": []
    },
    {
      "cell_type": "code",
      "source": [
        "y_train_y = y_train_y.astype('int')\n",
        "y_val_y = y_val_y.astype('int')\n",
        "y_test_y = y_test_y.astype('int')\n",
        "\n",
        "y_train_y = to_categorical(y_train_y, 2)\n",
        "y_val_y = to_categorical(y_val_y, 2)\n",
        "y_test_y = to_categorical(y_test_y, 2)\n",
        "\n",
        "X_train_y = X_train_y.reshape(-1, 1, X_train_y.shape[1])\n",
        "X_val_y = X_val_y.reshape(-1, 1, X_val_y.shape[1])\n",
        "X_test_y = X_test_y.reshape(-1, 1, X_test_y.shape[1])\n",
        "\n",
        "y_train_y = y_train_y.reshape(-1, 2)\n",
        "y_val_y = y_val_y.reshape(-1, 2)\n",
        "y_test_y = y_test_y.reshape(-1, 2)\n",
        "\n",
        "print(f'X_train_y.shape: {X_train_y.shape}, y_train_y.shape: {y_train_y.shape}')"
      ],
      "metadata": {
        "colab": {
          "base_uri": "https://localhost:8080/"
        },
        "id": "q9MF07eRdG-5",
        "outputId": "d36ef192-72e7-4539-d27c-8e667b66cf83"
      },
      "execution_count": null,
      "outputs": [
        {
          "output_type": "stream",
          "name": "stdout",
          "text": [
            "X_train_y.shape: (26600, 1, 2000), y_train_y.shape: (26600, 2)\n"
          ]
        }
      ]
    },
    {
      "cell_type": "code",
      "source": [
        "best_gru = load_model(gru_checkpoint_path)\n",
        "\n",
        "score_gru_y, acc_gru_y = best_gru.evaluate(X_test_y, y_test_y, verbose=0)\n",
        "print(f'Test loss for GRU model: {score_gru_y:.3f}')\n",
        "print(f'Test accuracy for GRU model: {acc_gru_y:.3f}')\n",
        "print()"
      ],
      "metadata": {
        "colab": {
          "base_uri": "https://localhost:8080/"
        },
        "id": "88DI8r2P2UFq",
        "outputId": "b685ad05-629b-448e-f352-c716ab2ab4f4"
      },
      "execution_count": null,
      "outputs": [
        {
          "output_type": "stream",
          "name": "stdout",
          "text": [
            "Test loss for GRU model: 3.559\n",
            "Test accuracy for GRU model: 0.524\n",
            "\n"
          ]
        }
      ]
    },
    {
      "cell_type": "markdown",
      "source": [
        "Fine-turning"
      ],
      "metadata": {
        "id": "jWw6S6kXdLS0"
      }
    },
    {
      "cell_type": "code",
      "source": [
        "model_gru_finetuned = load_model(gru_checkpoint_path)\n",
        "\n",
        "optimizer = Adam(learning_rate=0.001)\n",
        "\n",
        "model_gru_finetuned.compile(loss='categorical_crossentropy', optimizer=optimizer, metrics=['accuracy'])\n",
        "\n",
        "gru_ft_checkpoint_path = '/content/drive/MyDrive/advanced_project/models/gru_finetuned_best_model'\n",
        "gru_ft_checkpoint = ModelCheckpoint(\n",
        "    filepath=gru_ft_checkpoint_path,\n",
        "    save_best_only=True,\n",
        "    monitor='val_accuracy',\n",
        "    mode='max',\n",
        "    verbose=1\n",
        ")\n",
        "\n",
        "history_gru_ft = model_gru_finetuned.fit(\n",
        "    X_train_y, y_train_y,\n",
        "    batch_size=256,\n",
        "    validation_data=(X_val_y, y_val_y),\n",
        "    epochs=10,\n",
        "    callbacks=[gru_ft_checkpoint]\n",
        ")\n",
        "\n",
        "# Print history keys\n",
        "print(history_gru_ft.history.keys())"
      ],
      "metadata": {
        "colab": {
          "base_uri": "https://localhost:8080/"
        },
        "id": "EJQwAotwdMg-",
        "outputId": "a494905a-2d9c-47bf-8898-c1ec0c8c4eaf"
      },
      "execution_count": null,
      "outputs": [
        {
          "output_type": "stream",
          "name": "stdout",
          "text": [
            "Epoch 1/10\n",
            "104/104 [==============================] - ETA: 0s - loss: 1.9775 - accuracy: 0.6235\n",
            "Epoch 1: val_accuracy improved from -inf to 0.72785, saving model to /content/drive/MyDrive/advanced_project/models/gru_finetuned_best_model\n",
            "104/104 [==============================] - 5s 37ms/step - loss: 1.9775 - accuracy: 0.6235 - val_loss: 0.8266 - val_accuracy: 0.7278\n",
            "Epoch 2/10\n",
            "101/104 [============================>.] - ETA: 0s - loss: 0.6672 - accuracy: 0.7867\n",
            "Epoch 2: val_accuracy improved from 0.72785 to 0.81856, saving model to /content/drive/MyDrive/advanced_project/models/gru_finetuned_best_model\n",
            "104/104 [==============================] - 4s 37ms/step - loss: 0.6645 - accuracy: 0.7877 - val_loss: 0.5359 - val_accuracy: 0.8186\n",
            "Epoch 3/10\n",
            "103/104 [============================>.] - ETA: 0s - loss: 0.3509 - accuracy: 0.8721\n",
            "Epoch 3: val_accuracy improved from 0.81856 to 0.85155, saving model to /content/drive/MyDrive/advanced_project/models/gru_finetuned_best_model\n",
            "104/104 [==============================] - 4s 41ms/step - loss: 0.3498 - accuracy: 0.8723 - val_loss: 0.4260 - val_accuracy: 0.8516\n",
            "Epoch 4/10\n",
            "101/104 [============================>.] - ETA: 0s - loss: 0.2273 - accuracy: 0.9134\n",
            "Epoch 4: val_accuracy improved from 0.85155 to 0.86822, saving model to /content/drive/MyDrive/advanced_project/models/gru_finetuned_best_model\n",
            "104/104 [==============================] - 3s 33ms/step - loss: 0.2283 - accuracy: 0.9132 - val_loss: 0.3749 - val_accuracy: 0.8682\n",
            "Epoch 5/10\n",
            "102/104 [============================>.] - ETA: 0s - loss: 0.1630 - accuracy: 0.9368\n",
            "Epoch 5: val_accuracy improved from 0.86822 to 0.87542, saving model to /content/drive/MyDrive/advanced_project/models/gru_finetuned_best_model\n",
            "104/104 [==============================] - 4s 38ms/step - loss: 0.1633 - accuracy: 0.9365 - val_loss: 0.3516 - val_accuracy: 0.8754\n",
            "Epoch 6/10\n",
            "102/104 [============================>.] - ETA: 0s - loss: 0.1235 - accuracy: 0.9560\n",
            "Epoch 6: val_accuracy improved from 0.87542 to 0.87998, saving model to /content/drive/MyDrive/advanced_project/models/gru_finetuned_best_model\n",
            "104/104 [==============================] - 3s 34ms/step - loss: 0.1238 - accuracy: 0.9558 - val_loss: 0.3491 - val_accuracy: 0.8800\n",
            "Epoch 7/10\n",
            "102/104 [============================>.] - ETA: 0s - loss: 0.0951 - accuracy: 0.9685\n",
            "Epoch 7: val_accuracy did not improve from 0.87998\n",
            "104/104 [==============================] - 1s 11ms/step - loss: 0.0948 - accuracy: 0.9686 - val_loss: 0.3555 - val_accuracy: 0.8795\n",
            "Epoch 8/10\n",
            "100/104 [===========================>..] - ETA: 0s - loss: 0.0715 - accuracy: 0.9792\n",
            "Epoch 8: val_accuracy improved from 0.87998 to 0.88261, saving model to /content/drive/MyDrive/advanced_project/models/gru_finetuned_best_model\n",
            "104/104 [==============================] - 4s 34ms/step - loss: 0.0720 - accuracy: 0.9787 - val_loss: 0.3618 - val_accuracy: 0.8826\n",
            "Epoch 9/10\n",
            "104/104 [==============================] - ETA: 0s - loss: 0.0540 - accuracy: 0.9853\n",
            "Epoch 9: val_accuracy did not improve from 0.88261\n",
            "104/104 [==============================] - 1s 12ms/step - loss: 0.0540 - accuracy: 0.9853 - val_loss: 0.3775 - val_accuracy: 0.8798\n",
            "Epoch 10/10\n",
            "104/104 [==============================] - ETA: 0s - loss: 0.0379 - accuracy: 0.9924\n",
            "Epoch 10: val_accuracy did not improve from 0.88261\n",
            "104/104 [==============================] - 1s 14ms/step - loss: 0.0379 - accuracy: 0.9924 - val_loss: 0.3847 - val_accuracy: 0.8821\n",
            "dict_keys(['loss', 'accuracy', 'val_loss', 'val_accuracy'])\n"
          ]
        }
      ]
    },
    {
      "cell_type": "code",
      "source": [
        "best_gru_ft = load_model(gru_ft_checkpoint_path)\n",
        "\n",
        "score_gru_ft, acc_gru_ft = best_gru_ft.evaluate(X_test_y, y_test_y, verbose=0)\n",
        "print(f'Test loss for finetuned LSTM model: {score_gru_ft:.3f}')\n",
        "print(f'Test accuracy for finetuned LSTM model: {acc_gru_ft:.3f}')\n",
        "print()"
      ],
      "metadata": {
        "colab": {
          "base_uri": "https://localhost:8080/"
        },
        "id": "oscQyZ8ad7Qy",
        "outputId": "e53279ae-314e-4adb-c24f-4db09669e095"
      },
      "execution_count": null,
      "outputs": [
        {
          "output_type": "stream",
          "name": "stdout",
          "text": [
            "Test loss for finetuned LSTM model: 0.346\n",
            "Test accuracy for finetuned LSTM model: 0.882\n",
            "\n"
          ]
        }
      ]
    },
    {
      "cell_type": "code",
      "source": [
        "model_gru_fe = load_model(gru_checkpoint_path)\n",
        "\n",
        "model_gru_fe.layers[-1].trainable = False\n",
        "initial_layer1_weights_values = model_gru_fe.layers[-1].get_weights()\n",
        "\n",
        "optimizer = Adam(learning_rate=0.001)\n",
        "\n",
        "model_gru_fe.compile(loss='categorical_crossentropy', optimizer=optimizer, metrics=['accuracy'])\n",
        "\n",
        "gru_fe_checkpoint_path = '/content/drive/MyDrive/advanced_project/models/gru_fe_best_model'\n",
        "gru_fe_checkpoint = ModelCheckpoint(\n",
        "    filepath=gru_fe_checkpoint_path,\n",
        "    save_best_only=True,\n",
        "    monitor='val_accuracy',\n",
        "    mode='max',\n",
        "    verbose=1\n",
        ")\n",
        "\n",
        "history_gru_fe = model_gru_fe.fit(\n",
        "    X_train_y, y_train_y,\n",
        "    batch_size=256,\n",
        "    validation_data=(X_val_y, y_val_y),\n",
        "    epochs=10,\n",
        "    callbacks=[gru_fe_checkpoint]\n",
        ")\n",
        "\n",
        "# Print history keys\n",
        "print(history_gru_fe.history.keys())"
      ],
      "metadata": {
        "id": "jdgHV7Nf3LWf"
      },
      "execution_count": null,
      "outputs": []
    },
    {
      "cell_type": "code",
      "source": [
        "best_gru_fe = load_model(gru_fe_checkpoint_path)\n",
        "\n",
        "score_gru_fe, acc_gru_fe = best_gru_fe.evaluate(X_test_y, y_test_y, verbose=0)\n",
        "print(f'Test loss for feature extractor BiLSTM model: {score_gru_fe:.3f}')\n",
        "print(f'Test accuracy for feature extractor BiLSTM model: {acc_gru_fe:.3f}')\n",
        "print()"
      ],
      "metadata": {
        "colab": {
          "base_uri": "https://localhost:8080/"
        },
        "id": "s7nZ5m2W4JDu",
        "outputId": "b65e617c-8d66-49ab-fcdd-d115eece527e"
      },
      "execution_count": null,
      "outputs": [
        {
          "output_type": "stream",
          "name": "stdout",
          "text": [
            "Test loss for feature extractor BiLSTM model: 0.466\n",
            "Test accuracy for feature extractor BiLSTM model: 0.861\n",
            "\n"
          ]
        }
      ]
    }
  ]
}